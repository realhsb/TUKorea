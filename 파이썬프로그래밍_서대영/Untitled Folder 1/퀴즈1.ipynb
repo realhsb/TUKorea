{
 "cells": [
  {
   "cell_type": "code",
   "execution_count": 35,
   "id": "a1aca0fb",
   "metadata": {},
   "outputs": [],
   "source": [
    "import csv"
   ]
  },
  {
   "cell_type": "code",
   "execution_count": 36,
   "id": "3a3bb2cb",
   "metadata": {},
   "outputs": [],
   "source": [
    "import matplotlib.pyplot as plt"
   ]
  },
  {
   "cell_type": "code",
   "execution_count": 37,
   "id": "2c70ca42",
   "metadata": {
    "scrolled": true
   },
   "outputs": [
    {
     "name": "stdout",
     "output_type": "stream",
     "text": [
      "38.4\n",
      "['2.1939-08-10', '3.1939-08-10', '2.1943-08-24', '3.1943-08-24', '2.1994-07-23', '3.1994-07-23', '1.1994-07-24']\n"
     ]
    }
   ],
   "source": [
    "f = open('seoul.csv', encoding='CP949')\n",
    "data = csv.reader(f)\n",
    "next(data)\n",
    "\n",
    "max_tem = []\n",
    "result = []\n",
    "max = 0\n",
    "\n",
    "for row in data :\n",
    "    if row[-1] == '' :\n",
    "        continue\n",
    "    max_tem = max_tem + [float(row[-1])]\n",
    "max_tem.sort()\n",
    "#print(max_tem)\n",
    "print(max_tem[-1])\n",
    "\n",
    "f = open('seoul.csv', encoding='CP949')\n",
    "data = csv.reader(f)\n",
    "next(data)\n",
    "\n",
    "for row in data :\n",
    "    if row[-1] == '' :\n",
    "        continue\n",
    "    if max_tem[-1] == float(row[-1]):\n",
    "        result.append('1.' + row[0])\n",
    "    if max_tem[-2] == float(row[-1]) :\n",
    "        result.append('2.' + row[0])\n",
    "    if max_tem[-3] == float(row[-1]) :\n",
    "        result.append('3.' + row[0])\n",
    "\n",
    "print(result)"
   ]
  },
  {
   "cell_type": "code",
   "execution_count": 39,
   "id": "0abaddc5",
   "metadata": {},
   "outputs": [
    {
     "ename": "TypeError",
     "evalue": "'int' object is not callable",
     "output_type": "error",
     "traceback": [
      "\u001b[0;31m---------------------------------------------------------------------------\u001b[0m",
      "\u001b[0;31mTypeError\u001b[0m                                 Traceback (most recent call last)",
      "Input \u001b[0;32mIn [39]\u001b[0m, in \u001b[0;36m<cell line: 11>\u001b[0;34m()\u001b[0m\n\u001b[1;32m     14\u001b[0m             y\u001b[38;5;241m.\u001b[39mappend(\u001b[38;5;28mfloat\u001b[39m(row[\u001b[38;5;241m-\u001b[39m\u001b[38;5;241m1\u001b[39m]))\n\u001b[1;32m     15\u001b[0m             x\u001b[38;5;241m.\u001b[39mappend(\u001b[38;5;28mint\u001b[39m(row[\u001b[38;5;241m0\u001b[39m]\u001b[38;5;241m.\u001b[39msplit(\u001b[38;5;124m'\u001b[39m\u001b[38;5;124m-\u001b[39m\u001b[38;5;124m'\u001b[39m)[\u001b[38;5;241m0\u001b[39m]))\n\u001b[0;32m---> 16\u001b[0m             \u001b[38;5;28;01mif\u001b[39;00m \u001b[38;5;28;43mmax\u001b[39;49m\u001b[43m(\u001b[49m\u001b[43my\u001b[49m\u001b[43m)\u001b[49m \u001b[38;5;241m==\u001b[39m \u001b[38;5;28mfloat\u001b[39m(row[\u001b[38;5;241m-\u001b[39m\u001b[38;5;241m1\u001b[39m]) :\n\u001b[1;32m     17\u001b[0m                 max_year \u001b[38;5;241m=\u001b[39m \u001b[38;5;28mint\u001b[39m(row[\u001b[38;5;241m0\u001b[39m]\u001b[38;5;241m.\u001b[39msplit(\u001b[38;5;124m'\u001b[39m\u001b[38;5;124m-\u001b[39m\u001b[38;5;124m'\u001b[39m)[\u001b[38;5;241m0\u001b[39m])\n\u001b[1;32m     19\u001b[0m y \u001b[38;5;241m=\u001b[39m \u001b[38;5;28mlist\u001b[39m(\u001b[38;5;28mmap\u001b[39m(\u001b[38;5;28mfloat\u001b[39m, y))\n",
      "\u001b[0;31mTypeError\u001b[0m: 'int' object is not callable"
     ]
    }
   ],
   "source": [
    "import csv\n",
    "import matplotlib.pyplot as plt\n",
    "\n",
    "f = open('seoul.csv', encoding='CP949')\n",
    "data = csv.reader(f)\n",
    "next(data)\n",
    "x = []\n",
    "y = []\n",
    "\n",
    "max_year = 0\n",
    "for row in data :\n",
    "    if row[-1] != '' :\n",
    "        if row[0].split('-')[1] == '09' and row[0].split('-')[2] == '22' :\n",
    "            y.append(float(row[-1]))\n",
    "            x.append(int(row[0].split('-')[0]))\n",
    "            if max(y) == float(row[-1]) :\n",
    "                max_year = int(row[0].split('-')[0])\n",
    "            \n",
    "y = list(map(float, y))\n",
    "x = list(map(float, x))\n",
    "\n",
    "dic = { y:x for x, y in zip(x, y) }\n",
    "\n",
    "\n",
    "plt.text(dic[max(y)],max(y),\n",
    "         str(max_year) + ' : ' + str(max(y)),\n",
    "         color='r',\n",
    "         horizontalalignment='center',\n",
    "         verticalalignment='bottom')\n",
    "\n",
    "plt.plot(x, y)\n",
    "\n",
    "plt.show()"
   ]
  },
  {
   "cell_type": "code",
   "execution_count": null,
   "id": "b43bff2f",
   "metadata": {},
   "outputs": [],
   "source": []
  }
 ],
 "metadata": {
  "kernelspec": {
   "display_name": "Python 3 (ipykernel)",
   "language": "python",
   "name": "python3"
  },
  "language_info": {
   "codemirror_mode": {
    "name": "ipython",
    "version": 3
   },
   "file_extension": ".py",
   "mimetype": "text/x-python",
   "name": "python",
   "nbconvert_exporter": "python",
   "pygments_lexer": "ipython3",
   "version": "3.9.12"
  }
 },
 "nbformat": 4,
 "nbformat_minor": 5
}
