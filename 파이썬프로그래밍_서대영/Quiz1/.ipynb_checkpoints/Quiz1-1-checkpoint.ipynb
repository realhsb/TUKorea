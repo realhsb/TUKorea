{
 "cells": [
  {
   "cell_type": "code",
   "execution_count": 123,
   "id": "6f01c65f",
   "metadata": {},
   "outputs": [
    {
     "data": {
      "image/png": "[encoded data removed]",
      "text/plain": [
       "<Figure size 432x288 with 1 Axes>"
      ]
     },
     "metadata": {
      "needs_background": "light"
     },
     "output_type": "display_data"
    },
    {
     "name": "stdout",
     "output_type": "stream",
     "text": [
      "최고온도  2015  :  9.0\n",
      "최저온도  2007  :  -15.5\n"
     ]
    }
   ],
   "source": [
    "#퀴즈1\n",
    "import csv\n",
    "import matplotlib.pyplot as plt\n",
    "\n",
    "f = open('seoul.csv', encoding='CP949')\n",
    "data = csv.reader(f)\n",
    "next(data)\n",
    "high = [] # 최고\n",
    "low = [] # 최저\n",
    "year = [] # 연도\n",
    "\n",
    "\n",
    "for row in data :\n",
    "    if row[-1] != '' :\n",
    "        if int(row[0].split('-')[0]) >= 2001 and row[0].split('-')[1] == '01' and row[0].split('-')[2] == '05' :\n",
    "            high.append(float(row[-1]))\n",
    "            low.append(float(row[-2]))\n",
    "            year.append(row[0].split('-')[0])\n",
    "            if max(high) == float(row[-2]) :\n",
    "                max_year = row[0].split('-')[0]\n",
    "            if max(low) == float(row[-2]) :\n",
    "                min_year = row[0].split('-')[0]\n",
    "                \n",
    "high = list(map(float, high))\n",
    "low = list(map(float, low))\n",
    "year = list(map(float, year))\n",
    "\n",
    "\n",
    "plt.plot(year, high, label='한수빈-최고온도')\n",
    "plt.plot(year, low, label='한수빈-최저온도')\n",
    "plt.rc('font', family = 'AppleGothic')\n",
    "plt.legend(loc=4)\n",
    "plt.show()\n",
    "\n",
    "print('최고온도 ', max_year , ' : ', max(high))\n",
    "print('최저온도 ', min_year , ' : ', min(low))"
   ]
  },
  {
   "cell_type": "code",
   "execution_count": 58,
   "id": "5484ebdb",
   "metadata": {
    "scrolled": true
   },
   "outputs": [
    {
     "name": "stdout",
     "output_type": "stream",
     "text": [
      "['1 .1920.8.2 : 354.7', '2 .1998.8.8 : 332.8', '3 .2011.7.27 : 301.5']\n"
     ]
    }
   ],
   "source": [
    "# 퀴즈2-1\n",
    "import csv\n",
    "import matplotlib.pyplot as plt\n",
    "\n",
    "f = open('rain.csv', encoding='CP949')\n",
    "data = csv.reader(f)\n",
    "next(data)\n",
    "\n",
    "rains = []\n",
    "result = []\n",
    "\n",
    "for row in data :\n",
    "    if row[-1] != '' :\n",
    "        rains.append(float(row[-1]))\n",
    "        #print(row[-1])\n",
    "         \n",
    "rains.sort()\n",
    "\n",
    "f = open('rain.csv', encoding='CP949')\n",
    "data = csv.reader(f)\n",
    "next(data)\n",
    "\n",
    "for row in data :\n",
    "    if row[-1] != '' :\n",
    "        if(float(rains[-1]) == float(row[-1])) :\n",
    "            result.append('1 .'+ str(row[0])+ ' : '+ str(rains[-1]))\n",
    "        if(float(rains[-2]) == float(row[-1])) :\n",
    "            result.append('2 .'+ str(row[0])+ ' : '+ str(rains[-2]))\n",
    "        if(float(rains[-3]) == float(row[-1])) :\n",
    "            result.append('3 .'+ str(row[0])+ ' : '+ str(rains[-3]))\n",
    "\n",
    "print(result)"
   ]
  },
  {
   "cell_type": "code",
   "execution_count": 1,
   "id": "eaf44cbd",
   "metadata": {},
   "outputs": [
    {
     "name": "stdout",
     "output_type": "stream",
     "text": [
      "['2018.12.18 ~ 2019.1.31', 45]\n"
     ]
    }
   ],
   "source": [
    "# 퀴즈2-2\n",
    "import csv\n",
    "import matplotlib.pyplot as plt\n",
    "\n",
    "f = open('rain.csv', encoding='CP949')\n",
    "data = csv.reader(f)\n",
    "next(data)\n",
    "\n",
    "rains = []\n",
    "days = []\n",
    "result = []\n",
    "counts = []\n",
    "\n",
    "for row in data :\n",
    "        rains.append(row[-1])\n",
    "        days.append(row[0])\n",
    "\n",
    "\n",
    "temp = []\n",
    "count = 0\n",
    "for i in range (0, len(rains)) :\n",
    "    if rains[i] == '0' or rains[i] == '' :\n",
    "        temp.append(days[i])\n",
    "    else :\n",
    "        if(temp != []) :\n",
    "            result.append([temp[0] + ' ~ ' + temp[-1], len(temp)])\n",
    "            counts.append(len(temp))\n",
    "        temp = []\n",
    "\n",
    "result.sort(key=lambda x: -x[1])\n",
    "\n",
    "print(result[0])"
   ]
  },
  {
   "cell_type": "code",
   "execution_count": null,
   "id": "1bab81f9",
   "metadata": {},
   "outputs": [],
   "source": []
  }
 ],
 "metadata": {
  "kernelspec": {
   "display_name": "Python 3 (ipykernel)",
   "language": "python",
   "name": "python3"
  },
  "language_info": {
   "codemirror_mode": {
    "name": "ipython",
    "version": 3
   },
   "file_extension": ".py",
   "mimetype": "text/x-python",
   "name": "python",
   "nbconvert_exporter": "python",
   "pygments_lexer": "ipython3",
   "version": "3.9.12"
  }
 },
 "nbformat": 4,
 "nbformat_minor": 5
}
