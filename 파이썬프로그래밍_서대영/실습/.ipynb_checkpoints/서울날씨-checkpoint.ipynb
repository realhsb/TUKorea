{
 "cells": [
  {
   "cell_type": "code",
   "execution_count": 3,
   "id": "88cac89b",
   "metadata": {},
   "outputs": [],
   "source": [
    "import matplotlib.pyplot as plt"
   ]
  },
  {
   "cell_type": "code",
   "execution_count": 4,
   "id": "a485cf98",
   "metadata": {},
   "outputs": [],
   "source": [
    "import csv"
   ]
  },
  {
   "cell_type": "code",
   "execution_count": 6,
   "id": "db0c38ac",
   "metadata": {},
   "outputs": [
    {
     "ename": "SyntaxError",
     "evalue": "invalid syntax (1694468688.py, line 10)",
     "output_type": "error",
     "traceback": [
      "\u001b[0;36m  Input \u001b[0;32mIn [6]\u001b[0;36m\u001b[0m\n\u001b[0;31m    plt.plot(result, 'hotpink')\u001b[0m\n\u001b[0m    ^\u001b[0m\n\u001b[0;31mSyntaxError\u001b[0m\u001b[0;31m:\u001b[0m invalid syntax\n"
     ]
    }
   ],
   "source": [
    "f = open('seoul2.csv', encoding='utf-8')\n",
    "data = csv.reader(f)\n",
    "next(data)\n",
    "result = []\n",
    "\n",
    "for row in data :\n",
    "    if row[-1] != '' :\n",
    "        if row[0].split('-')[1] == '09' :\n",
    "            result.append(float(row[-1])\n",
    "plt.plot(result, 'hotpink')\n",
    "plt.show()"
   ]
  },
  {
   "cell_type": "code",
   "execution_count": null,
   "id": "4fc41d99",
   "metadata": {},
   "outputs": [],
   "source": [
    "print(len(result))"
   ]
  },
  {
   "cell_type": "code",
   "execution_count": null,
   "id": "8ccc509b",
   "metadata": {},
   "outputs": [],
   "source": [
    "import matplotlib.pyplot as plt"
   ]
  },
  {
   "cell_type": "code",
   "execution_count": null,
   "id": "98513019",
   "metadata": {
    "scrolled": true
   },
   "outputs": [],
   "source": [
    "f = open('seoul2.csv', encoding='utf-8')\n",
    "data = csv.reader(f)\n",
    "next(data)\n",
    "result = []\n",
    "\n",
    "for row in data :\n",
    "    if row[-1] != '' :\n",
    "        if row[0].split('-')[1] == '09' and row[0].split('-')[2] == '22' :\n",
    "            result.append(float(row[-1]))\n",
    "\n",
    "plt.plot(result, 'hotpink')\n",
    "plt.show()"
   ]
  },
  {
   "cell_type": "code",
   "execution_count": null,
   "id": "b905e21b",
   "metadata": {},
   "outputs": [],
   "source": [
    "plt.figure(figsize=(10,2))"
   ]
  },
  {
   "cell_type": "code",
   "execution_count": null,
   "id": "f910bc9d",
   "metadata": {},
   "outputs": [],
   "source": [
    "s = 'hello python'\n",
    "print(s.split())"
   ]
  },
  {
   "cell_type": "code",
   "execution_count": null,
   "id": "fde467b4",
   "metadata": {},
   "outputs": [],
   "source": [
    "data2 = '1097-10-01'\n",
    "print(data2.split('-')[0])\n",
    "print(data2.split('-')[1])\n",
    "print(data2.split('-')[2])"
   ]
  },
  {
   "cell_type": "code",
   "execution_count": null,
   "id": "5d87fde7",
   "metadata": {},
   "outputs": [],
   "source": [
    "f = open('seoul2.csv', encoding='utf-8')\n",
    "data = csv.reader(f)\n",
    "next(data)\n",
    "result2 = []\n",
    "\n",
    "for row in data :\n",
    "    if row[-1] != '' :\n",
    "        if row[0].split('-')[0] == '2010' and float(row[4]) > 30 :\n",
    "            result2.append(float(row[-1]))\n",
    "\n",
    "plt.plot(result2, 'pink')\n",
    "plt.show()"
   ]
  },
  {
   "cell_type": "code",
   "execution_count": null,
   "id": "e7424321",
   "metadata": {},
   "outputs": [],
   "source": [
    "f = open('seoul2.csv', encoding='utf-8')\n",
    "data = csv.reader(f)\n",
    "next(data)\n",
    "result = []\n",
    "\n",
    "for row in data :\n",
    "    if row[-1] != '' :\n",
    "        if row[0].split('-')[1] == '09' and row[0].split('-')[2] == '22' :\n",
    "            result.append(float(row[-1]))\n",
    "\n",
    "plt.plot(result, 'hotpink')\n",
    "plt.show()"
   ]
  }
 ],
 "metadata": {
  "kernelspec": {
   "display_name": "Python 3 (ipykernel)",
   "language": "python",
   "name": "python3"
  },
  "language_info": {
   "codemirror_mode": {
    "name": "ipython",
    "version": 3
   },
   "file_extension": ".py",
   "mimetype": "text/x-python",
   "name": "python",
   "nbconvert_exporter": "python",
   "pygments_lexer": "ipython3",
   "version": "3.9.12"
  }
 },
 "nbformat": 4,
 "nbformat_minor": 5
}
