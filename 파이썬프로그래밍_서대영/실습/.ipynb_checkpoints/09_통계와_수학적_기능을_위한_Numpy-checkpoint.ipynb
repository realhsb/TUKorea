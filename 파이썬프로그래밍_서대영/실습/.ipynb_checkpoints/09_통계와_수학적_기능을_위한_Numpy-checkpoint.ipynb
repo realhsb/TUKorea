{
 "cells": [
  {
   "cell_type": "markdown",
   "id": "845ec2a5",
   "metadata": {},
   "source": [
    "# 9.2 Numpy의 기초"
   ]
  },
  {
   "cell_type": "code",
   "execution_count": 8,
   "id": "8f1ab462",
   "metadata": {},
   "outputs": [
    {
     "ename": "AttributeError",
     "evalue": "'list' object has no attribute 'mean'",
     "output_type": "error",
     "traceback": [
      "\u001b[0;31m---------------------------------------------------------------------------\u001b[0m",
      "\u001b[0;31mAttributeError\u001b[0m                            Traceback (most recent call last)",
      "Input \u001b[0;32mIn [8]\u001b[0m, in \u001b[0;36m<cell line: 2>\u001b[0;34m()\u001b[0m\n\u001b[1;32m      1\u001b[0m x \u001b[38;5;241m=\u001b[39m [\u001b[38;5;241m1\u001b[39m, \u001b[38;5;241m3\u001b[39m, \u001b[38;5;241m5\u001b[39m]\n\u001b[0;32m----> 2\u001b[0m \u001b[43mx\u001b[49m\u001b[38;5;241;43m.\u001b[39;49m\u001b[43mmean\u001b[49m()\n",
      "\u001b[0;31mAttributeError\u001b[0m: 'list' object has no attribute 'mean'"
     ]
    }
   ],
   "source": [
    "x = [1, 3, 5]\n",
    "x.mean()"
   ]
  },
  {
   "cell_type": "code",
   "execution_count": 9,
   "id": "6cf55da6",
   "metadata": {},
   "outputs": [],
   "source": [
    "import numpy as np"
   ]
  },
  {
   "cell_type": "markdown",
   "id": "caf84b99",
   "metadata": {},
   "source": [
    "## Numpy 배열"
   ]
  },
  {
   "cell_type": "markdown",
   "id": "3894b898",
   "metadata": {},
   "source": [
    "- zeros()\n",
    " - 괄호 안에 입력된 숫자만큼의 원소를 생성하고 0으로 초기화\n",
    " \n",
    "- array()\n",
    " - Numpy 형식으로 배열의 원소를 입력할 때는 반드시 리스트 형식으로 입력\n",
    " - x = np.array([1, 3, 5]) (O)\n",
    " - x = np.array(1, 3, 5)   (X)"
   ]
  },
  {
   "cell_type": "markdown",
   "id": "b63a4796",
   "metadata": {},
   "source": [
    "### mean()\n",
    "- 배열에 저장된 원소들의 평균값을 계산\n",
    " 1. Numpy 모듈 가져오기\n",
    " 2. 파이썬의 데이터형(예: 리스트)을 Numpy 형식으로 변환\n",
    " 3. Numpy에서 제공하는 기능 수행(예: 평균)"
   ]
  },
  {
   "cell_type": "code",
   "execution_count": 10,
   "id": "69d3747e",
   "metadata": {},
   "outputs": [
    {
     "name": "stdout",
     "output_type": "stream",
     "text": [
      "3.0\n"
     ]
    }
   ],
   "source": [
    "x = np.array([1,3,5])\n",
    "print(x.mean())"
   ]
  },
  {
   "cell_type": "code",
   "execution_count": 13,
   "id": "4821b364",
   "metadata": {},
   "outputs": [],
   "source": [
    "a = np.array([[1, 2, 3], [2, 3, 4]])"
   ]
  },
  {
   "cell_type": "markdown",
   "id": "b14ce84a",
   "metadata": {},
   "source": [
    "### shape 속성\n",
    " - print(x.shape)"
   ]
  },
  {
   "cell_type": "code",
   "execution_count": 12,
   "id": "1ca7a5a9",
   "metadata": {},
   "outputs": [
    {
     "name": "stdout",
     "output_type": "stream",
     "text": [
      "(3,)\n"
     ]
    }
   ],
   "source": [
    "print(x.shape)"
   ]
  },
  {
   "cell_type": "code",
   "execution_count": 16,
   "id": "2b00a645",
   "metadata": {},
   "outputs": [
    {
     "name": "stdout",
     "output_type": "stream",
     "text": [
      "(2, 3)\n"
     ]
    }
   ],
   "source": [
    "a = np.array([[1, 2, 3], [2, 3, 4]])\n",
    "print(a.shape)"
   ]
  },
  {
   "cell_type": "markdown",
   "id": "91fb530a",
   "metadata": {},
   "source": [
    "### reshape()\n",
    " - 배열을 원하는 모양으로 생성"
   ]
  },
  {
   "cell_type": "code",
   "execution_count": 17,
   "id": "ff0b212c",
   "metadata": {},
   "outputs": [
    {
     "name": "stdout",
     "output_type": "stream",
     "text": [
      "[[ 1  3]\n",
      " [ 5  7]\n",
      " [ 9 11]]\n"
     ]
    }
   ],
   "source": [
    "x = np.array([1, 3, 5, 7, 9, 11]).reshape(3, 2)\n",
    "print(x)"
   ]
  },
  {
   "cell_type": "markdown",
   "id": "72d9b26c",
   "metadata": {},
   "source": [
    "### ones()\n",
    " - 배열을 1의 값들로 채움"
   ]
  },
  {
   "cell_type": "code",
   "execution_count": 19,
   "id": "41a6b289",
   "metadata": {},
   "outputs": [
    {
     "name": "stdout",
     "output_type": "stream",
     "text": [
      "[[1. 1. 1. 1.]\n",
      " [1. 1. 1. 1.]\n",
      " [1. 1. 1. 1.]]\n"
     ]
    }
   ],
   "source": [
    "y = np.ones([3, 4])\n",
    "print(y)"
   ]
  },
  {
   "cell_type": "markdown",
   "id": "3c602af7",
   "metadata": {},
   "source": [
    "### 출력"
   ]
  },
  {
   "cell_type": "code",
   "execution_count": 21,
   "id": "1d787e71",
   "metadata": {},
   "outputs": [
    {
     "name": "stdout",
     "output_type": "stream",
     "text": [
      "[2 4 6]\n",
      "4.0\n",
      "3.5\n",
      "(2, 3)\n"
     ]
    }
   ],
   "source": [
    "x = np.array([[1, 3, 5], [2, 4, 6]])\n",
    "print(x[1])\n",
    "print(x[1].mean())  # 4.0 출력\n",
    "print(x.mean()) # 3.5\n",
    "print(x.shape) # (2,3)"
   ]
  },
  {
   "cell_type": "markdown",
   "id": "833d563a",
   "metadata": {},
   "source": [
    "## Numpy 배열의 슬라이싱"
   ]
  },
  {
   "cell_type": "markdown",
   "id": "56b22087",
   "metadata": {},
   "source": [
    "### 파이썬의 2차원 리스트에서 모든 원소의 두 번째 원소들만 출력\n",
    " - 모든 원소에 대한 두 번째 항목의 내용을 따로 접근할 수 없음"
   ]
  },
  {
   "cell_type": "code",
   "execution_count": 25,
   "id": "aebb24d1",
   "metadata": {},
   "outputs": [
    {
     "ename": "TypeError",
     "evalue": "There are no type variables left in list[slice(None, None, None)]",
     "output_type": "error",
     "traceback": [
      "\u001b[0;31m---------------------------------------------------------------------------\u001b[0m",
      "\u001b[0;31mTypeError\u001b[0m                                 Traceback (most recent call last)",
      "Input \u001b[0;32mIn [25]\u001b[0m, in \u001b[0;36m<cell line: 2>\u001b[0;34m()\u001b[0m\n\u001b[1;32m      1\u001b[0m list1 \u001b[38;5;241m=\u001b[39m [[\u001b[38;5;241m1\u001b[39m, \u001b[38;5;241m11\u001b[39m], [\u001b[38;5;241m2\u001b[39m, \u001b[38;5;241m12\u001b[39m], [\u001b[38;5;241m3\u001b[39m, \u001b[38;5;241m13\u001b[39m]]\n\u001b[0;32m----> 2\u001b[0m \u001b[38;5;28mprint\u001b[39m(\u001b[38;5;28;43mlist\u001b[39;49m\u001b[43m[\u001b[49m\u001b[43m:\u001b[49m\u001b[43m]\u001b[49m\u001b[43m[\u001b[49m\u001b[38;5;241;43m1\u001b[39;49m\u001b[43m]\u001b[49m)\n",
      "\u001b[0;31mTypeError\u001b[0m: There are no type variables left in list[slice(None, None, None)]"
     ]
    }
   ],
   "source": [
    "list1 = [[1, 11], [2, 12], [3, 13]]\n",
    "print(list[:][1])"
   ]
  },
  {
   "cell_type": "markdown",
   "id": "0c33629f",
   "metadata": {},
   "source": [
    "### Numpy\n",
    " - 각각의 원소의 특정 인덱스 위치에 일괄적으로 접근 가능\n",
    " - 먼저 리스트를 Numpy 형식으로 변환 후 슬라이싱해야 함\n",
    " - 리스트이 인덱스는 반드시 정수나 슬라이스여야 함"
   ]
  },
  {
   "cell_type": "code",
   "execution_count": 28,
   "id": "417d000a",
   "metadata": {},
   "outputs": [
    {
     "name": "stdout",
     "output_type": "stream",
     "text": [
      "[11 12 13]\n"
     ]
    }
   ],
   "source": [
    "import numpy as np\n",
    "list1= [[1, 11], [2, 12], [3, 13]]\n",
    "np_ary = np.array(list1)\n",
    "print(np_ary[:, 1])"
   ]
  },
  {
   "cell_type": "code",
   "execution_count": 30,
   "id": "5d919b6b",
   "metadata": {},
   "outputs": [
    {
     "ename": "TypeError",
     "evalue": "list indices must be integers or slices, not tuple",
     "output_type": "error",
     "traceback": [
      "\u001b[0;31m---------------------------------------------------------------------------\u001b[0m",
      "\u001b[0;31mTypeError\u001b[0m                                 Traceback (most recent call last)",
      "Input \u001b[0;32mIn [30]\u001b[0m, in \u001b[0;36m<cell line: 3>\u001b[0;34m()\u001b[0m\n\u001b[1;32m      1\u001b[0m \u001b[38;5;28;01mimport\u001b[39;00m \u001b[38;5;21;01mnumpy\u001b[39;00m \u001b[38;5;28;01mas\u001b[39;00m \u001b[38;5;21;01mnp\u001b[39;00m\n\u001b[1;32m      2\u001b[0m list1 \u001b[38;5;241m=\u001b[39m [[\u001b[38;5;241m1\u001b[39m, \u001b[38;5;241m11\u001b[39m], [\u001b[38;5;241m2\u001b[39m, \u001b[38;5;241m12\u001b[39m], [\u001b[38;5;241m3\u001b[39m, \u001b[38;5;241m13\u001b[39m]]\n\u001b[0;32m----> 3\u001b[0m \u001b[38;5;28mprint\u001b[39m(np\u001b[38;5;241m.\u001b[39marray(\u001b[43mlist1\u001b[49m\u001b[43m[\u001b[49m\u001b[43m:\u001b[49m\u001b[43m,\u001b[49m\u001b[43m \u001b[49m\u001b[38;5;241;43m1\u001b[39;49m\u001b[43m]\u001b[49m))\n",
      "\u001b[0;31mTypeError\u001b[0m: list indices must be integers or slices, not tuple"
     ]
    }
   ],
   "source": [
    "import numpy as np\n",
    "list1 = [[1, 11], [2, 12], [3, 13]]\n",
    "print(np.array(list1[:, 1]))\n",
    "# 리스트를 Numpy로 변환해주기 전에 슬라이스를 한 것이 문제"
   ]
  },
  {
   "cell_type": "markdown",
   "id": "30252b9a",
   "metadata": {},
   "source": [
    "## Numpy를 이용한 연산 "
   ]
  },
  {
   "cell_type": "markdown",
   "id": "a93045d4",
   "metadata": {},
   "source": [
    "### 파이썬 math 모듈의 sqrt()"
   ]
  },
  {
   "cell_type": "code",
   "execution_count": 32,
   "id": "2fb95a69",
   "metadata": {},
   "outputs": [
    {
     "data": {
      "text/plain": [
       "1.4142135623730951"
      ]
     },
     "execution_count": 32,
     "metadata": {},
     "output_type": "execute_result"
    }
   ],
   "source": [
    "import math\n",
    "math.sqrt(2)"
   ]
  },
  {
   "cell_type": "code",
   "execution_count": 33,
   "id": "983b95ce",
   "metadata": {},
   "outputs": [
    {
     "ename": "TypeError",
     "evalue": "must be real number, not list",
     "output_type": "error",
     "traceback": [
      "\u001b[0;31m---------------------------------------------------------------------------\u001b[0m",
      "\u001b[0;31mTypeError\u001b[0m                                 Traceback (most recent call last)",
      "Input \u001b[0;32mIn [33]\u001b[0m, in \u001b[0;36m<cell line: 1>\u001b[0;34m()\u001b[0m\n\u001b[0;32m----> 1\u001b[0m \u001b[43mmath\u001b[49m\u001b[38;5;241;43m.\u001b[39;49m\u001b[43msqrt\u001b[49m\u001b[43m(\u001b[49m\u001b[43m[\u001b[49m\u001b[38;5;241;43m2\u001b[39;49m\u001b[43m,\u001b[49m\u001b[43m \u001b[49m\u001b[38;5;241;43m3\u001b[39;49m\u001b[43m,\u001b[49m\u001b[43m \u001b[49m\u001b[38;5;241;43m4\u001b[39;49m\u001b[43m]\u001b[49m\u001b[43m)\u001b[49m\n",
      "\u001b[0;31mTypeError\u001b[0m: must be real number, not list"
     ]
    }
   ],
   "source": [
    "math.sqrt([2, 3, 4])"
   ]
  },
  {
   "cell_type": "markdown",
   "id": "7544904f",
   "metadata": {},
   "source": [
    "###  Numpy의 sqrt()"
   ]
  },
  {
   "cell_type": "code",
   "execution_count": 35,
   "id": "acf66c47",
   "metadata": {},
   "outputs": [
    {
     "data": {
      "text/plain": [
       "array([1.41421356, 1.73205081, 2.        ])"
      ]
     },
     "execution_count": 35,
     "metadata": {},
     "output_type": "execute_result"
    }
   ],
   "source": [
    "import numpy as np\n",
    "np.sqrt([2, 3, 4])"
   ]
  },
  {
   "cell_type": "code",
   "execution_count": 37,
   "id": "e43ecd1f",
   "metadata": {},
   "outputs": [
    {
     "name": "stdout",
     "output_type": "stream",
     "text": [
      "[ 0  1  2  3  4  5  6  7  8  9 10 11 12 13 14]\n"
     ]
    }
   ],
   "source": [
    "import numpy as np\n",
    "a = np.arange(15)\n",
    "print(a)"
   ]
  },
  {
   "cell_type": "code",
   "execution_count": 38,
   "id": "10361be3",
   "metadata": {},
   "outputs": [
    {
     "name": "stdout",
     "output_type": "stream",
     "text": [
      "[[ 0  1  2  3  4]\n",
      " [ 5  6  7  8  9]\n",
      " [10 11 12 13 14]]\n"
     ]
    }
   ],
   "source": [
    "import numpy as np\n",
    "a = np.arange(15).reshape(3, 5)\n",
    "print(a)"
   ]
  },
  {
   "cell_type": "markdown",
   "id": "987ef181",
   "metadata": {},
   "source": [
    "## 제로 벡터와 제로 행렬 "
   ]
  },
  {
   "cell_type": "markdown",
   "id": "516490b1",
   "metadata": {},
   "source": [
    "### 0으로 초기화된 1차원의 zero_vector 생성"
   ]
  },
  {
   "cell_type": "code",
   "execution_count": 43,
   "id": "00165d1e",
   "metadata": {},
   "outputs": [
    {
     "name": "stdout",
     "output_type": "stream",
     "text": [
      "[0. 0. 0.]\n"
     ]
    }
   ],
   "source": [
    "import numpy as np\n",
    "zero_vector = np.zeros(3)\n",
    "print(zero_vector)"
   ]
  },
  {
   "cell_type": "markdown",
   "id": "445c751b",
   "metadata": {},
   "source": [
    "###  0으로 초기화된 (4X3) 형식의 2차원 배열 생성 "
   ]
  },
  {
   "cell_type": "code",
   "execution_count": 44,
   "id": "6bdf200c",
   "metadata": {},
   "outputs": [
    {
     "name": "stdout",
     "output_type": "stream",
     "text": [
      "[[0. 0. 0.]\n",
      " [0. 0. 0.]\n",
      " [0. 0. 0.]\n",
      " [0. 0. 0.]]\n"
     ]
    }
   ],
   "source": [
    "zero_matrix = np.zeros((4, 3))\n",
    "print(zero_matrix)"
   ]
  },
  {
   "cell_type": "markdown",
   "id": "a569865d",
   "metadata": {},
   "source": [
    "### 0의 값을 갖는 5개의 1차원 배열 생성 "
   ]
  },
  {
   "cell_type": "code",
   "execution_count": 48,
   "id": "593ad2c7",
   "metadata": {},
   "outputs": [
    {
     "data": {
      "text/plain": [
       "array([0., 0., 0., 0., 0.])"
      ]
     },
     "execution_count": 48,
     "metadata": {},
     "output_type": "execute_result"
    }
   ],
   "source": [
    "zero_vector = np.zeros(5)\n",
    "zero_vector"
   ]
  },
  {
   "cell_type": "code",
   "execution_count": 49,
   "id": "a00a0d2b",
   "metadata": {},
   "outputs": [
    {
     "data": {
      "text/plain": [
       "array([[4., 4., 4., 4., 4.],\n",
       "       [4., 4., 4., 4., 4.],\n",
       "       [4., 4., 4., 4., 4.]])"
      ]
     },
     "execution_count": 49,
     "metadata": {},
     "output_type": "execute_result"
    }
   ],
   "source": [
    "import numpy as np\n",
    "my_array = np.zeros(15).reshape(3, 5)\n",
    "my_array += 4\n",
    "my_array"
   ]
  },
  {
   "cell_type": "markdown",
   "id": "e311f02d",
   "metadata": {},
   "source": [
    "## 전치 행렬\n",
    "### 전치행렬\n",
    "- 행과 열을 교환하여 얻어지는 행렬\n",
    "- 행렬의 값들을 주대각선을 기준으로 위치를 바꾼 행렬을 의미\n",
    "\n",
    "### transpose()\n",
    "- 전치행렬로 변환 "
   ]
  },
  {
   "cell_type": "code",
   "execution_count": 50,
   "id": "4f341bc5",
   "metadata": {},
   "outputs": [
    {
     "name": "stdout",
     "output_type": "stream",
     "text": [
      "[[1 3]\n",
      " [2 4]]\n"
     ]
    }
   ],
   "source": [
    "import numpy as np\n",
    "ary = np.array([[1,2], [3,4]])\n",
    "print(ary.transpose())"
   ]
  },
  {
   "cell_type": "markdown",
   "id": "1826be30",
   "metadata": {},
   "source": [
    "## 사칙연산\n",
    "### 2개 배열에 대한 연산\n",
    "- 2개 배열에 저장된 내용을 인덱스별로 계산\n",
    "- 선형대수학의 사친연산과 동일하게 작동\n",
    "- 곱셈도 같은 원리도 동작 "
   ]
  },
  {
   "cell_type": "code",
   "execution_count": 53,
   "id": "80b64e40",
   "metadata": {},
   "outputs": [
    {
     "name": "stdout",
     "output_type": "stream",
     "text": [
      "[ 4 10 18]\n"
     ]
    }
   ],
   "source": [
    "import numpy as np\n",
    "x = np.array([1,2,3])\n",
    "y = np.array([4,5,6])\n",
    "z = x * y\n",
    "print(z)"
   ]
  },
  {
   "cell_type": "markdown",
   "id": "506ef6ac",
   "metadata": {},
   "source": [
    "### Numpy 배열에 1을 더하면\n",
    "- 각각의 원소에 1씩을 더할 수 있음"
   ]
  },
  {
   "cell_type": "code",
   "execution_count": 55,
   "id": "645b5640",
   "metadata": {},
   "outputs": [
    {
     "name": "stdout",
     "output_type": "stream",
     "text": [
      "[2 3 4]\n"
     ]
    }
   ],
   "source": [
    "s = np.array([1,2,3])\n",
    "t = s + 1\n",
    "print(t)"
   ]
  },
  {
   "cell_type": "markdown",
   "id": "bdff7db2",
   "metadata": {},
   "source": [
    "## 인덱싱\n",
    "### 인덱싱 "
   ]
  },
  {
   "cell_type": "code",
   "execution_count": 57,
   "id": "adc9eb45",
   "metadata": {},
   "outputs": [
    {
     "name": "stdout",
     "output_type": "stream",
     "text": [
      "[4 5 6]\n",
      "[2 5 8]\n"
     ]
    }
   ],
   "source": [
    "X = np.array([[1,2,3],[4,5,6],[7,8,9]])\n",
    "print(X[1])      # [4 5 6] 출력 (X배열의 인덱스 1번의 내용을 출력)\n",
    "print(X[:, 1])"
   ]
  },
  {
   "cell_type": "code",
   "execution_count": null,
   "id": "32a778e4",
   "metadata": {},
   "outputs": [],
   "source": []
  },
  {
   "cell_type": "markdown",
   "id": "072614fe",
   "metadata": {},
   "source": [
    "## Quiz 9.1"
   ]
  },
  {
   "cell_type": "code",
   "execution_count": 22,
   "id": "dcf56d81",
   "metadata": {},
   "outputs": [
    {
     "name": "stdout",
     "output_type": "stream",
     "text": [
      "(2, 3)\n"
     ]
    }
   ],
   "source": [
    "a = np.array([[1, 2, 3], [2, 3, 4]])\n",
    "print(a.shape)"
   ]
  },
  {
   "cell_type": "markdown",
   "id": "a80b3d0c",
   "metadata": {},
   "source": [
    "## Quiz 9.2"
   ]
  },
  {
   "cell_type": "code",
   "execution_count": 23,
   "id": "a7464192",
   "metadata": {},
   "outputs": [
    {
     "name": "stdout",
     "output_type": "stream",
     "text": [
      "12\n"
     ]
    }
   ],
   "source": [
    "list1 = [[1, 11], [2, 12], [3, 13]]\n",
    "print(list1[1][1])"
   ]
  },
  {
   "cell_type": "markdown",
   "id": "dd1dd0cb",
   "metadata": {},
   "source": [
    "## Quiz 9.3 "
   ]
  },
  {
   "cell_type": "code",
   "execution_count": 31,
   "id": "8a118994",
   "metadata": {},
   "outputs": [
    {
     "name": "stdout",
     "output_type": "stream",
     "text": [
      "[ 1 11]\n"
     ]
    }
   ],
   "source": [
    "import numpy as np\n",
    "list1 = [[1, 11], [2, 12], [3, 13]]\n",
    "print(np.array(list1[:][0]))"
   ]
  },
  {
   "cell_type": "markdown",
   "id": "f616f8f3",
   "metadata": {},
   "source": [
    "## Quiz 9.4"
   ]
  },
  {
   "cell_type": "code",
   "execution_count": 42,
   "id": "3c4fea9d",
   "metadata": {},
   "outputs": [
    {
     "name": "stdout",
     "output_type": "stream",
     "text": [
      "6\n"
     ]
    }
   ],
   "source": [
    "import numpy as np\n",
    "a = np.arange(15).reshape(3, 5)\n",
    "print(a[1][1])"
   ]
  },
  {
   "cell_type": "markdown",
   "id": "425a91bf",
   "metadata": {},
   "source": [
    "## Quiz 9.5"
   ]
  },
  {
   "cell_type": "code",
   "execution_count": 51,
   "id": "626828d1",
   "metadata": {},
   "outputs": [
    {
     "name": "stdout",
     "output_type": "stream",
     "text": [
      "[1, 2, 3, 4, 5, 6]\n"
     ]
    }
   ],
   "source": [
    "x = [1, 2, 3]\n",
    "y = [4, 5, 6]\n",
    "z = x + y\n",
    "print(z)"
   ]
  },
  {
   "cell_type": "markdown",
   "id": "4299f210",
   "metadata": {},
   "source": [
    "## Quiz 9.6"
   ]
  },
  {
   "cell_type": "code",
   "execution_count": 52,
   "id": "c1f8a197",
   "metadata": {},
   "outputs": [
    {
     "name": "stdout",
     "output_type": "stream",
     "text": [
      "[5 7 9]\n"
     ]
    }
   ],
   "source": [
    "import numpy as np\n",
    "x = np.array([1,2,3])\n",
    "y = np.array([4,5,6])\n",
    "z = x + y\n",
    "print(z)"
   ]
  },
  {
   "cell_type": "markdown",
   "id": "c1cebdcb",
   "metadata": {},
   "source": [
    "## Quiz 9.7 "
   ]
  },
  {
   "cell_type": "code",
   "execution_count": 56,
   "id": "29b984f2",
   "metadata": {},
   "outputs": [
    {
     "name": "stdout",
     "output_type": "stream",
     "text": [
      "[2. 2. 2.]\n"
     ]
    }
   ],
   "source": [
    "import numpy as np\n",
    "x = np.array([4,8,12])\n",
    "y = np.array([2,4,6])\n",
    "z = x / y\n",
    "print(z)"
   ]
  },
  {
   "cell_type": "code",
   "execution_count": null,
   "id": "e9617a40",
   "metadata": {},
   "outputs": [],
   "source": []
  }
 ],
 "metadata": {
  "kernelspec": {
   "display_name": "Python 3 (ipykernel)",
   "language": "python",
   "name": "python3"
  },
  "language_info": {
   "codemirror_mode": {
    "name": "ipython",
    "version": 3
   },
   "file_extension": ".py",
   "mimetype": "text/x-python",
   "name": "python",
   "nbconvert_exporter": "python",
   "pygments_lexer": "ipython3",
   "version": "3.9.12"
  }
 },
 "nbformat": 4,
 "nbformat_minor": 5
}
