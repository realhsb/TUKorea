{
 "cells": [
  {
   "cell_type": "code",
   "execution_count": 5,
   "id": "e4ad89cc",
   "metadata": {},
   "outputs": [],
   "source": [
    "states = ['Alabana', 'Geogia!', 'Geogia', 'geogia', 'Florida']"
   ]
  },
  {
   "cell_type": "code",
   "execution_count": 6,
   "id": "44e19d8c",
   "metadata": {},
   "outputs": [],
   "source": [
    "import re"
   ]
  },
  {
   "cell_type": "code",
   "execution_count": null,
   "id": "baf05ad3",
   "metadata": {},
   "outputs": [],
   "source": [
    "def"
   ]
  },
  {
   "cell_type": "code",
   "execution_count": 2,
   "id": "dc26939f",
   "metadata": {},
   "outputs": [],
   "source": [
    "def short_function(x) :\n",
    "    return x*2\n",
    "equiv_anon = lambda x : x*2"
   ]
  },
  {
   "cell_type": "code",
   "execution_count": 8,
   "id": "d15e620a",
   "metadata": {},
   "outputs": [
    {
     "data": {
      "text/plain": [
       "[8, 0, 8, 10, 12]"
      ]
     },
     "execution_count": 8,
     "metadata": {},
     "output_type": "execute_result"
    }
   ],
   "source": [
    "def apply_to_list(some_list, f) :\n",
    "    return [f(x) for x in some_list]\n",
    "\n",
    "ints = [4, 0, 4, 5, 6]\n",
    "apply_to_list(ints, lambda x : x*2)"
   ]
  },
  {
   "cell_type": "code",
   "execution_count": null,
   "id": "81ae1660",
   "metadata": {},
   "outputs": [],
   "source": []
  },
  {
   "cell_type": "code",
   "execution_count": null,
   "id": "ee9540cb",
   "metadata": {},
   "outputs": [],
   "source": []
  }
 ],
 "metadata": {
  "kernelspec": {
   "display_name": "Python 3 (ipykernel)",
   "language": "python",
   "name": "python3"
  },
  "language_info": {
   "codemirror_mode": {
    "name": "ipython",
    "version": 3
   },
   "file_extension": ".py",
   "mimetype": "text/x-python",
   "name": "python",
   "nbconvert_exporter": "python",
   "pygments_lexer": "ipython3",
   "version": "3.9.12"
  }
 },
 "nbformat": 4,
 "nbformat_minor": 5
}
