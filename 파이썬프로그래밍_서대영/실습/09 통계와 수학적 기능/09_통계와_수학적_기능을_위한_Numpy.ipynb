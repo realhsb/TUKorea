{
 "cells": [
  {
   "cell_type": "markdown",
   "id": "fcdc5845",
   "metadata": {},
   "source": [
    "# 9.2 Numpy의 기초"
   ]
  },
  {
   "cell_type": "code",
   "execution_count": 2,
   "id": "ee343532",
   "metadata": {
    "scrolled": true
   },
   "outputs": [
    {
     "ename": "AttributeError",
     "evalue": "'list' object has no attribute 'mean'",
     "output_type": "error",
     "traceback": [
      "\u001b[0;31m---------------------------------------------------------------------------\u001b[0m",
      "\u001b[0;31mAttributeError\u001b[0m                            Traceback (most recent call last)",
      "Input \u001b[0;32mIn [2]\u001b[0m, in \u001b[0;36m<cell line: 2>\u001b[0;34m()\u001b[0m\n\u001b[1;32m      1\u001b[0m x \u001b[38;5;241m=\u001b[39m [\u001b[38;5;241m1\u001b[39m, \u001b[38;5;241m3\u001b[39m, \u001b[38;5;241m5\u001b[39m]\n\u001b[0;32m----> 2\u001b[0m \u001b[43mx\u001b[49m\u001b[38;5;241;43m.\u001b[39;49m\u001b[43mmean\u001b[49m()\n",
      "\u001b[0;31mAttributeError\u001b[0m: 'list' object has no attribute 'mean'"
     ]
    }
   ],
   "source": [
    "x = [1, 3, 5]\n",
    "x.mean()"
   ]
  },
  {
   "cell_type": "code",
   "execution_count": 3,
   "id": "37770563",
   "metadata": {},
   "outputs": [],
   "source": [
    "import numpy as np"
   ]
  },
  {
   "cell_type": "markdown",
   "id": "e08a01b8",
   "metadata": {},
   "source": [
    "## Numpy 배열"
   ]
  },
  {
   "cell_type": "markdown",
   "id": "ec97bde6",
   "metadata": {},
   "source": [
    "- zeros()\n",
    " - 괄호 안에 입력된 숫자만큼의 원소를 생성하고 0으로 초기화\n",
    " \n",
    "- array()\n",
    " - Numpy 형식으로 배열의 원소를 입력할 때는 반드시 리스트 형식으로 입력\n",
    " - x = np.array([1, 3, 5]) (O)\n",
    " - x = np.array(1, 3, 5)   (X)"
   ]
  },
  {
   "cell_type": "markdown",
   "id": "e2fc14be",
   "metadata": {},
   "source": [
    "### mean()\n",
    "- 배열에 저장된 원소들의 평균값을 계산\n",
    " 1. Numpy 모듈 가져오기\n",
    " 2. 파이썬의 데이터형(예: 리스트)을 Numpy 형식으로 변환\n",
    " 3. Numpy에서 제공하는 기능 수행(예: 평균)"
   ]
  },
  {
   "cell_type": "code",
   "execution_count": 4,
   "id": "85dc82ab",
   "metadata": {},
   "outputs": [
    {
     "name": "stdout",
     "output_type": "stream",
     "text": [
      "3.0\n"
     ]
    }
   ],
   "source": [
    "x = np.array([1,3,5])\n",
    "print(x.mean())"
   ]
  },
  {
   "cell_type": "code",
   "execution_count": 5,
   "id": "34ac2589",
   "metadata": {},
   "outputs": [],
   "source": [
    "a = np.array([[1, 2, 3], [2, 3, 4]])"
   ]
  },
  {
   "cell_type": "markdown",
   "id": "6eb67233",
   "metadata": {},
   "source": [
    "### shape 속성\n",
    " - print(x.shape)"
   ]
  },
  {
   "cell_type": "code",
   "execution_count": 6,
   "id": "8d231a40",
   "metadata": {},
   "outputs": [
    {
     "name": "stdout",
     "output_type": "stream",
     "text": [
      "(3,)\n"
     ]
    }
   ],
   "source": [
    "print(x.shape)"
   ]
  },
  {
   "cell_type": "code",
   "execution_count": 7,
   "id": "4a8bf536",
   "metadata": {},
   "outputs": [
    {
     "name": "stdout",
     "output_type": "stream",
     "text": [
      "(2, 3)\n"
     ]
    }
   ],
   "source": [
    "a = np.array([[1, 2, 3], [2, 3, 4]])\n",
    "print(a.shape)"
   ]
  },
  {
   "cell_type": "markdown",
   "id": "c96e1148",
   "metadata": {},
   "source": [
    "### reshape()\n",
    " - 배열을 원하는 모양으로 생성"
   ]
  },
  {
   "cell_type": "code",
   "execution_count": 8,
   "id": "d0cd83ee",
   "metadata": {},
   "outputs": [
    {
     "name": "stdout",
     "output_type": "stream",
     "text": [
      "[[ 1  3]\n",
      " [ 5  7]\n",
      " [ 9 11]]\n"
     ]
    }
   ],
   "source": [
    "x = np.array([1, 3, 5, 7, 9, 11]).reshape(3, 2)\n",
    "print(x)"
   ]
  },
  {
   "cell_type": "markdown",
   "id": "9522550b",
   "metadata": {},
   "source": [
    "### ones()\n",
    " - 배열을 1의 값들로 채움"
   ]
  },
  {
   "cell_type": "code",
   "execution_count": 9,
   "id": "a268f0e2",
   "metadata": {},
   "outputs": [
    {
     "name": "stdout",
     "output_type": "stream",
     "text": [
      "[[1. 1. 1. 1.]\n",
      " [1. 1. 1. 1.]\n",
      " [1. 1. 1. 1.]]\n"
     ]
    }
   ],
   "source": [
    "y = np.ones([3, 4])\n",
    "print(y)"
   ]
  },
  {
   "cell_type": "markdown",
   "id": "1f6590ae",
   "metadata": {},
   "source": [
    "### 출력"
   ]
  },
  {
   "cell_type": "code",
   "execution_count": 10,
   "id": "24a2e6bc",
   "metadata": {},
   "outputs": [
    {
     "name": "stdout",
     "output_type": "stream",
     "text": [
      "[2 4 6]\n",
      "4.0\n",
      "3.5\n",
      "(2, 3)\n"
     ]
    }
   ],
   "source": [
    "x = np.array([[1, 3, 5], [2, 4, 6]])\n",
    "print(x[1])\n",
    "print(x[1].mean())  # 4.0 출력\n",
    "print(x.mean()) # 3.5\n",
    "print(x.shape) # (2,3)"
   ]
  },
  {
   "cell_type": "markdown",
   "id": "28d211d7",
   "metadata": {},
   "source": [
    "## Numpy 배열의 슬라이싱"
   ]
  },
  {
   "cell_type": "markdown",
   "id": "64901121",
   "metadata": {},
   "source": [
    "### 파이썬의 2차원 리스트에서 모든 원소의 두 번째 원소들만 출력\n",
    " - 모든 원소에 대한 두 번째 항목의 내용을 따로 접근할 수 없음"
   ]
  },
  {
   "cell_type": "code",
   "execution_count": 11,
   "id": "dcf8c2ec",
   "metadata": {},
   "outputs": [
    {
     "ename": "TypeError",
     "evalue": "There are no type variables left in list[slice(None, None, None)]",
     "output_type": "error",
     "traceback": [
      "\u001b[0;31m---------------------------------------------------------------------------\u001b[0m",
      "\u001b[0;31mTypeError\u001b[0m                                 Traceback (most recent call last)",
      "Input \u001b[0;32mIn [11]\u001b[0m, in \u001b[0;36m<cell line: 2>\u001b[0;34m()\u001b[0m\n\u001b[1;32m      1\u001b[0m list1 \u001b[38;5;241m=\u001b[39m [[\u001b[38;5;241m1\u001b[39m, \u001b[38;5;241m11\u001b[39m], [\u001b[38;5;241m2\u001b[39m, \u001b[38;5;241m12\u001b[39m], [\u001b[38;5;241m3\u001b[39m, \u001b[38;5;241m13\u001b[39m]]\n\u001b[0;32m----> 2\u001b[0m \u001b[38;5;28mprint\u001b[39m(\u001b[38;5;28;43mlist\u001b[39;49m\u001b[43m[\u001b[49m\u001b[43m:\u001b[49m\u001b[43m]\u001b[49m\u001b[43m[\u001b[49m\u001b[38;5;241;43m1\u001b[39;49m\u001b[43m]\u001b[49m)\n",
      "\u001b[0;31mTypeError\u001b[0m: There are no type variables left in list[slice(None, None, None)]"
     ]
    }
   ],
   "source": [
    "list1 = [[1, 11], [2, 12], [3, 13]]\n",
    "print(list[:][1])"
   ]
  },
  {
   "cell_type": "markdown",
   "id": "58d63427",
   "metadata": {},
   "source": [
    "### Numpy\n",
    " - 각각의 원소의 특정 인덱스 위치에 일괄적으로 접근 가능\n",
    " - 먼저 리스트를 Numpy 형식으로 변환 후 슬라이싱해야 함\n",
    " - 리스트이 인덱스는 반드시 정수나 슬라이스여야 함"
   ]
  },
  {
   "cell_type": "code",
   "execution_count": 12,
   "id": "697bb4c5",
   "metadata": {},
   "outputs": [
    {
     "name": "stdout",
     "output_type": "stream",
     "text": [
      "[11 12 13]\n"
     ]
    }
   ],
   "source": [
    "import numpy as np\n",
    "list1= [[1, 11], [2, 12], [3, 13]]\n",
    "np_ary = np.array(list1)\n",
    "print(np_ary[:, 1])"
   ]
  },
  {
   "cell_type": "code",
   "execution_count": 13,
   "id": "fb0fc16e",
   "metadata": {},
   "outputs": [
    {
     "ename": "TypeError",
     "evalue": "list indices must be integers or slices, not tuple",
     "output_type": "error",
     "traceback": [
      "\u001b[0;31m---------------------------------------------------------------------------\u001b[0m",
      "\u001b[0;31mTypeError\u001b[0m                                 Traceback (most recent call last)",
      "Input \u001b[0;32mIn [13]\u001b[0m, in \u001b[0;36m<cell line: 3>\u001b[0;34m()\u001b[0m\n\u001b[1;32m      1\u001b[0m \u001b[38;5;28;01mimport\u001b[39;00m \u001b[38;5;21;01mnumpy\u001b[39;00m \u001b[38;5;28;01mas\u001b[39;00m \u001b[38;5;21;01mnp\u001b[39;00m\n\u001b[1;32m      2\u001b[0m list1 \u001b[38;5;241m=\u001b[39m [[\u001b[38;5;241m1\u001b[39m, \u001b[38;5;241m11\u001b[39m], [\u001b[38;5;241m2\u001b[39m, \u001b[38;5;241m12\u001b[39m], [\u001b[38;5;241m3\u001b[39m, \u001b[38;5;241m13\u001b[39m]]\n\u001b[0;32m----> 3\u001b[0m \u001b[38;5;28mprint\u001b[39m(np\u001b[38;5;241m.\u001b[39marray(\u001b[43mlist1\u001b[49m\u001b[43m[\u001b[49m\u001b[43m:\u001b[49m\u001b[43m,\u001b[49m\u001b[43m \u001b[49m\u001b[38;5;241;43m1\u001b[39;49m\u001b[43m]\u001b[49m))\n",
      "\u001b[0;31mTypeError\u001b[0m: list indices must be integers or slices, not tuple"
     ]
    }
   ],
   "source": [
    "import numpy as np\n",
    "list1 = [[1, 11], [2, 12], [3, 13]]\n",
    "print(np.array(list1[:, 1]))\n",
    "# 리스트를 Numpy로 변환해주기 전에 슬라이스를 한 것이 문제"
   ]
  },
  {
   "cell_type": "markdown",
   "id": "9e02e32a",
   "metadata": {},
   "source": [
    "## Numpy를 이용한 연산 "
   ]
  },
  {
   "cell_type": "markdown",
   "id": "992b0a3c",
   "metadata": {},
   "source": [
    "### 파이썬 math 모듈의 sqrt()"
   ]
  },
  {
   "cell_type": "code",
   "execution_count": 14,
   "id": "1d566e8c",
   "metadata": {},
   "outputs": [
    {
     "data": {
      "text/plain": [
       "1.4142135623730951"
      ]
     },
     "execution_count": 14,
     "metadata": {},
     "output_type": "execute_result"
    }
   ],
   "source": [
    "import math\n",
    "math.sqrt(2)"
   ]
  },
  {
   "cell_type": "code",
   "execution_count": 15,
   "id": "0eb44cc7",
   "metadata": {},
   "outputs": [
    {
     "ename": "TypeError",
     "evalue": "must be real number, not list",
     "output_type": "error",
     "traceback": [
      "\u001b[0;31m---------------------------------------------------------------------------\u001b[0m",
      "\u001b[0;31mTypeError\u001b[0m                                 Traceback (most recent call last)",
      "Input \u001b[0;32mIn [15]\u001b[0m, in \u001b[0;36m<cell line: 1>\u001b[0;34m()\u001b[0m\n\u001b[0;32m----> 1\u001b[0m \u001b[43mmath\u001b[49m\u001b[38;5;241;43m.\u001b[39;49m\u001b[43msqrt\u001b[49m\u001b[43m(\u001b[49m\u001b[43m[\u001b[49m\u001b[38;5;241;43m2\u001b[39;49m\u001b[43m,\u001b[49m\u001b[43m \u001b[49m\u001b[38;5;241;43m3\u001b[39;49m\u001b[43m,\u001b[49m\u001b[43m \u001b[49m\u001b[38;5;241;43m4\u001b[39;49m\u001b[43m]\u001b[49m\u001b[43m)\u001b[49m\n",
      "\u001b[0;31mTypeError\u001b[0m: must be real number, not list"
     ]
    }
   ],
   "source": [
    "math.sqrt([2, 3, 4])"
   ]
  },
  {
   "cell_type": "markdown",
   "id": "e3361d3d",
   "metadata": {},
   "source": [
    "###  Numpy의 sqrt()"
   ]
  },
  {
   "cell_type": "code",
   "execution_count": 16,
   "id": "85f42d62",
   "metadata": {},
   "outputs": [
    {
     "data": {
      "text/plain": [
       "array([1.41421356, 1.73205081, 2.        ])"
      ]
     },
     "execution_count": 16,
     "metadata": {},
     "output_type": "execute_result"
    }
   ],
   "source": [
    "import numpy as np\n",
    "np.sqrt([2, 3, 4])"
   ]
  },
  {
   "cell_type": "code",
   "execution_count": 17,
   "id": "8c783579",
   "metadata": {},
   "outputs": [
    {
     "name": "stdout",
     "output_type": "stream",
     "text": [
      "[ 0  1  2  3  4  5  6  7  8  9 10 11 12 13 14]\n"
     ]
    }
   ],
   "source": [
    "import numpy as np\n",
    "a = np.arange(15)\n",
    "print(a)"
   ]
  },
  {
   "cell_type": "code",
   "execution_count": 18,
   "id": "a14aaa2a",
   "metadata": {},
   "outputs": [
    {
     "name": "stdout",
     "output_type": "stream",
     "text": [
      "[[ 0  1  2  3  4]\n",
      " [ 5  6  7  8  9]\n",
      " [10 11 12 13 14]]\n"
     ]
    }
   ],
   "source": [
    "import numpy as np\n",
    "a = np.arange(15).reshape(3, 5)\n",
    "print(a)"
   ]
  },
  {
   "cell_type": "markdown",
   "id": "6dd08378",
   "metadata": {},
   "source": [
    "## 제로 벡터와 제로 행렬 "
   ]
  },
  {
   "cell_type": "markdown",
   "id": "d956a376",
   "metadata": {},
   "source": [
    "### 0으로 초기화된 1차원의 zero_vector 생성"
   ]
  },
  {
   "cell_type": "code",
   "execution_count": 19,
   "id": "1b5430a2",
   "metadata": {},
   "outputs": [
    {
     "name": "stdout",
     "output_type": "stream",
     "text": [
      "[0. 0. 0.]\n"
     ]
    }
   ],
   "source": [
    "import numpy as np\n",
    "zero_vector = np.zeros(3)\n",
    "print(zero_vector)"
   ]
  },
  {
   "cell_type": "markdown",
   "id": "387829f8",
   "metadata": {},
   "source": [
    "###  0으로 초기화된 (4X3) 형식의 2차원 배열 생성 "
   ]
  },
  {
   "cell_type": "code",
   "execution_count": 20,
   "id": "e803dcf4",
   "metadata": {},
   "outputs": [
    {
     "name": "stdout",
     "output_type": "stream",
     "text": [
      "[[0. 0. 0.]\n",
      " [0. 0. 0.]\n",
      " [0. 0. 0.]\n",
      " [0. 0. 0.]]\n"
     ]
    }
   ],
   "source": [
    "zero_matrix = np.zeros((4, 3))\n",
    "print(zero_matrix)"
   ]
  },
  {
   "cell_type": "markdown",
   "id": "00460106",
   "metadata": {},
   "source": [
    "### 0의 값을 갖는 5개의 1차원 배열 생성 "
   ]
  },
  {
   "cell_type": "code",
   "execution_count": 21,
   "id": "90815b05",
   "metadata": {},
   "outputs": [
    {
     "data": {
      "text/plain": [
       "array([0., 0., 0., 0., 0.])"
      ]
     },
     "execution_count": 21,
     "metadata": {},
     "output_type": "execute_result"
    }
   ],
   "source": [
    "zero_vector = np.zeros(5)\n",
    "zero_vector"
   ]
  },
  {
   "cell_type": "code",
   "execution_count": 22,
   "id": "dc3617ec",
   "metadata": {},
   "outputs": [
    {
     "data": {
      "text/plain": [
       "array([[4., 4., 4., 4., 4.],\n",
       "       [4., 4., 4., 4., 4.],\n",
       "       [4., 4., 4., 4., 4.]])"
      ]
     },
     "execution_count": 22,
     "metadata": {},
     "output_type": "execute_result"
    }
   ],
   "source": [
    "import numpy as np\n",
    "my_array = np.zeros(15).reshape(3, 5)\n",
    "my_array += 4\n",
    "my_array"
   ]
  },
  {
   "cell_type": "markdown",
   "id": "eee35987",
   "metadata": {},
   "source": [
    "## 전치 행렬\n",
    "### 전치행렬\n",
    "- 행과 열을 교환하여 얻어지는 행렬\n",
    "- 행렬의 값들을 주대각선을 기준으로 위치를 바꾼 행렬을 의미\n",
    "\n",
    "### transpose()\n",
    "- 전치행렬로 변환 "
   ]
  },
  {
   "cell_type": "code",
   "execution_count": 23,
   "id": "84b7f6db",
   "metadata": {},
   "outputs": [
    {
     "name": "stdout",
     "output_type": "stream",
     "text": [
      "[[1 3]\n",
      " [2 4]]\n"
     ]
    }
   ],
   "source": [
    "import numpy as np\n",
    "ary = np.array([[1,2], [3,4]])\n",
    "print(ary.transpose())"
   ]
  },
  {
   "cell_type": "markdown",
   "id": "6783aefd",
   "metadata": {},
   "source": [
    "## 사칙연산\n",
    "### 2개 배열에 대한 연산\n",
    "- 2개 배열에 저장된 내용을 인덱스별로 계산\n",
    "- 선형대수학의 사친연산과 동일하게 작동\n",
    "- 곱셈도 같은 원리도 동작 "
   ]
  },
  {
   "cell_type": "code",
   "execution_count": 24,
   "id": "6fee191a",
   "metadata": {},
   "outputs": [
    {
     "name": "stdout",
     "output_type": "stream",
     "text": [
      "[ 4 10 18]\n"
     ]
    }
   ],
   "source": [
    "import numpy as np\n",
    "x = np.array([1,2,3])\n",
    "y = np.array([4,5,6])\n",
    "z = x * y\n",
    "print(z)"
   ]
  },
  {
   "cell_type": "markdown",
   "id": "21a26ae5",
   "metadata": {},
   "source": [
    "### Numpy 배열에 1을 더하면\n",
    "- 각각의 원소에 1씩을 더할 수 있음"
   ]
  },
  {
   "cell_type": "code",
   "execution_count": 25,
   "id": "6b99082f",
   "metadata": {},
   "outputs": [
    {
     "name": "stdout",
     "output_type": "stream",
     "text": [
      "[2 3 4]\n"
     ]
    }
   ],
   "source": [
    "s = np.array([1,2,3])\n",
    "t = s + 1\n",
    "print(t)"
   ]
  },
  {
   "cell_type": "markdown",
   "id": "edd37d97",
   "metadata": {},
   "source": [
    "## 인덱싱\n",
    "### 인덱싱 "
   ]
  },
  {
   "cell_type": "code",
   "execution_count": 26,
   "id": "173aa8aa",
   "metadata": {},
   "outputs": [
    {
     "name": "stdout",
     "output_type": "stream",
     "text": [
      "[4 5 6]\n",
      "[2 5 8]\n"
     ]
    }
   ],
   "source": [
    "X = np.array([[1,2,3],[4,5,6],[7,8,9]])\n",
    "print(X[1])      # [4 5 6] 출력 (X배열의 인덱스 1번의 내용을 출력)\n",
    "print(X[:, 1])   # [2 5 8] 출력 (각 1차원 배열의 1번의 내용을 출력)"
   ]
  },
  {
   "cell_type": "code",
   "execution_count": 27,
   "id": "1f7be153",
   "metadata": {},
   "outputs": [
    {
     "name": "stdout",
     "output_type": "stream",
     "text": [
      "[ 5 11 17]\n"
     ]
    }
   ],
   "source": [
    "X = np.array([[1,2,3], [4,5,6], [7,8,9]])\n",
    "Y = np.array([[2,3,4], [5,6,7], [8,9,10]])\n",
    "print(X[:, 1] + Y[:, 1])"
   ]
  },
  {
   "cell_type": "code",
   "execution_count": 28,
   "id": "bbea1fad",
   "metadata": {},
   "outputs": [
    {
     "name": "stdout",
     "output_type": "stream",
     "text": [
      "[20 40 60]\n"
     ]
    }
   ],
   "source": [
    "a = np.array([10, 20, 30, 40, 50, 60, 70])\n",
    "i = [1, 3, 5]\n",
    "print(a[i])"
   ]
  },
  {
   "cell_type": "code",
   "execution_count": 32,
   "id": "53d4e27e",
   "metadata": {},
   "outputs": [
    {
     "name": "stdout",
     "output_type": "stream",
     "text": [
      "b: [20 40 60]\n",
      "b: [20 10 60]\n",
      "a: [10 20 30 10 50 60 70]\n"
     ]
    },
    {
     "data": {
      "text/plain": [
       "numpy.ndarray"
      ]
     },
     "execution_count": 32,
     "metadata": {},
     "output_type": "execute_result"
    }
   ],
   "source": [
    "import numpy as np\n",
    "a = np.array([10, 20, 30, 40, 50, 60, 70])\n",
    "b = a[1:6:2]\n",
    "print('b:', b)\n",
    "b[1] = 10\n",
    "print('b:', b)\n",
    "print('a:', a)\n",
    "type(b)"
   ]
  },
  {
   "cell_type": "code",
   "execution_count": null,
   "id": "165c5b17",
   "metadata": {},
   "outputs": [],
   "source": []
  },
  {
   "cell_type": "code",
   "execution_count": 34,
   "id": "79647cf6",
   "metadata": {},
   "outputs": [],
   "source": [
    "a = np.array([10,20,30,40,50,60,70])\n",
    "b = a > 50"
   ]
  },
  {
   "cell_type": "code",
   "execution_count": 36,
   "id": "091b6456",
   "metadata": {},
   "outputs": [
    {
     "name": "stdout",
     "output_type": "stream",
     "text": [
      "[False False False False False  True  True]\n"
     ]
    }
   ],
   "source": [
    "a = np.array([10,20,30,40,50,60,70])\n",
    "b = a > 50\n",
    "print(b)"
   ]
  },
  {
   "cell_type": "code",
   "execution_count": 38,
   "id": "356dc363",
   "metadata": {},
   "outputs": [
    {
     "name": "stdout",
     "output_type": "stream",
     "text": [
      "[0.38986596 0.32748739 0.64397201 0.46974621 0.00896816]\n",
      "False\n",
      "False\n"
     ]
    }
   ],
   "source": [
    "ary = np.random.random(5)\n",
    "print(ary)\n",
    "print(np.all(ary >= 0.3))\n",
    "print(np.any(ary > 0.7))"
   ]
  },
  {
   "cell_type": "code",
   "execution_count": 47,
   "id": "3b090701",
   "metadata": {},
   "outputs": [
    {
     "data": {
      "text/plain": [
       "array([ 0.,  4.,  8., 12.])"
      ]
     },
     "execution_count": 47,
     "metadata": {},
     "output_type": "execute_result"
    }
   ],
   "source": [
    "np.linspace(0, 12, 4)"
   ]
  },
  {
   "cell_type": "code",
   "execution_count": 48,
   "id": "ac5b0be1",
   "metadata": {},
   "outputs": [
    {
     "data": {
      "text/plain": [
       "(array([ 0.,  4.,  8., 12.]), 4.0)"
      ]
     },
     "execution_count": 48,
     "metadata": {},
     "output_type": "execute_result"
    }
   ],
   "source": [
    "np.linspace(0, 12, 4, retstep=True)"
   ]
  },
  {
   "cell_type": "code",
   "execution_count": 49,
   "id": "79cb63ab",
   "metadata": {},
   "outputs": [
    {
     "data": {
      "text/plain": [
       "array([0., 4., 8.])"
      ]
     },
     "execution_count": 49,
     "metadata": {},
     "output_type": "execute_result"
    }
   ],
   "source": [
    "np.linspace(0, 12, 3, endpoint=False)"
   ]
  },
  {
   "cell_type": "code",
   "execution_count": 51,
   "id": "4d1ceeba",
   "metadata": {},
   "outputs": [
    {
     "data": {
      "text/plain": [
       "array([ 10.        ,  17.7827941 ,  31.6227766 ,  56.23413252,\n",
       "       100.        ])"
      ]
     },
     "execution_count": 51,
     "metadata": {},
     "output_type": "execute_result"
    }
   ],
   "source": [
    "np.logspace(np.log10(10), np.log10(100), 5)"
   ]
  },
  {
   "cell_type": "code",
   "execution_count": 52,
   "id": "45b127df",
   "metadata": {},
   "outputs": [
    {
     "data": {
      "text/plain": [
       "array([ 10.        ,  17.7827941 ,  31.6227766 ,  56.23413252,\n",
       "       100.        ])"
      ]
     },
     "execution_count": 52,
     "metadata": {},
     "output_type": "execute_result"
    }
   ],
   "source": [
    "np.logspace(1, 2, 5)"
   ]
  },
  {
   "cell_type": "code",
   "execution_count": null,
   "id": "1be64be0",
   "metadata": {},
   "outputs": [],
   "source": []
  },
  {
   "cell_type": "markdown",
   "id": "2efcfe47",
   "metadata": {},
   "source": [
    "## Quiz 9.1"
   ]
  },
  {
   "cell_type": "code",
   "execution_count": null,
   "id": "b889d0ea",
   "metadata": {},
   "outputs": [],
   "source": [
    "a = np.array([[1, 2, 3], [2, 3, 4]])\n",
    "print(a.shape)"
   ]
  },
  {
   "cell_type": "markdown",
   "id": "c58736f1",
   "metadata": {},
   "source": [
    "## Quiz 9.2"
   ]
  },
  {
   "cell_type": "code",
   "execution_count": null,
   "id": "781bebac",
   "metadata": {},
   "outputs": [],
   "source": [
    "list1 = [[1, 11], [2, 12], [3, 13]]\n",
    "print(list1[1][1])"
   ]
  },
  {
   "cell_type": "markdown",
   "id": "d4a2c97b",
   "metadata": {},
   "source": [
    "## Quiz 9.3 "
   ]
  },
  {
   "cell_type": "code",
   "execution_count": null,
   "id": "37a3b0bd",
   "metadata": {},
   "outputs": [],
   "source": [
    "import numpy as np\n",
    "list1 = [[1, 11], [2, 12], [3, 13]]\n",
    "print(np.array(list1[:][0]))"
   ]
  },
  {
   "cell_type": "markdown",
   "id": "316f6291",
   "metadata": {},
   "source": [
    "## Quiz 9.4"
   ]
  },
  {
   "cell_type": "code",
   "execution_count": null,
   "id": "abae9e9a",
   "metadata": {},
   "outputs": [],
   "source": [
    "import numpy as np\n",
    "a = np.arange(15).reshape(3, 5)\n",
    "print(a[1][1])"
   ]
  },
  {
   "cell_type": "markdown",
   "id": "361eb733",
   "metadata": {},
   "source": [
    "## Quiz 9.5"
   ]
  },
  {
   "cell_type": "code",
   "execution_count": null,
   "id": "3b02b34a",
   "metadata": {},
   "outputs": [],
   "source": [
    "x = [1, 2, 3]\n",
    "y = [4, 5, 6]\n",
    "z = x + y\n",
    "print(z)"
   ]
  },
  {
   "cell_type": "markdown",
   "id": "8316f3af",
   "metadata": {},
   "source": [
    "## Quiz 9.6"
   ]
  },
  {
   "cell_type": "code",
   "execution_count": null,
   "id": "fcde98d6",
   "metadata": {},
   "outputs": [],
   "source": [
    "import numpy as np\n",
    "x = np.array([1,2,3])\n",
    "y = np.array([4,5,6])\n",
    "z = x + y\n",
    "print(z)"
   ]
  },
  {
   "cell_type": "markdown",
   "id": "f4753232",
   "metadata": {},
   "source": [
    "## Quiz 9.7 "
   ]
  },
  {
   "cell_type": "code",
   "execution_count": null,
   "id": "afe94484",
   "metadata": {},
   "outputs": [],
   "source": [
    "import numpy as np\n",
    "x = np.array([4,8,12])\n",
    "y = np.array([2,4,6])\n",
    "z = x / y\n",
    "print(z)"
   ]
  },
  {
   "cell_type": "markdown",
   "id": "8c48aac3",
   "metadata": {},
   "source": [
    "## Quiz 9.8"
   ]
  },
  {
   "cell_type": "code",
   "execution_count": 39,
   "id": "e35ece8b",
   "metadata": {},
   "outputs": [
    {
     "name": "stdout",
     "output_type": "stream",
     "text": [
      "b: [20 40 60]\n",
      "b: [20 10 60]\n",
      "a: [10 20 30 10 50 60 70]\n"
     ]
    }
   ],
   "source": [
    "import numpy as np\n",
    "a = np.array([10, 20, 30, 40, 50, 60, 70])\n",
    "b = a[1:6:2]\n",
    "print('b:', b)\n",
    "b[1] = 10\n",
    "print('b:', b)\n",
    "print('a:', a)"
   ]
  },
  {
   "cell_type": "markdown",
   "id": "2dcb07ce",
   "metadata": {},
   "source": [
    "## Quiz 9.9"
   ]
  },
  {
   "cell_type": "code",
   "execution_count": 44,
   "id": "0ab5f888",
   "metadata": {},
   "outputs": [
    {
     "name": "stdout",
     "output_type": "stream",
     "text": [
      "[21.85171573 20.97505669 21.75028214 24.7473475  21.44127836]\n"
     ]
    }
   ],
   "source": [
    "# height = [173, 168, 171, 189, 179]\n",
    "# weight = [65.4, 59.2, 63.6, 88.4, 68.7]\n",
    "# bmi = (weight/(height**2))*10000\n",
    "\n",
    "import numpy as np\n",
    "height = np.array([173, 168, 171, 189, 179])\n",
    "weight = np.array([65.4, 59.2, 63.6, 88.4, 68.7])\n",
    "bmi = (weight/(height**2))*10000\n",
    "print(bmi)\n"
   ]
  },
  {
   "cell_type": "markdown",
   "id": "406b05d2",
   "metadata": {},
   "source": [
    "## Quiz 9.10"
   ]
  },
  {
   "cell_type": "code",
   "execution_count": 46,
   "id": "66ad1913",
   "metadata": {},
   "outputs": [
    {
     "name": "stdout",
     "output_type": "stream",
     "text": [
      "[ True False  True  True  True]\n"
     ]
    }
   ],
   "source": [
    "check = bmi > 21\n",
    "print(check)"
   ]
  }
 ],
 "metadata": {
  "kernelspec": {
   "display_name": "Python 3 (ipykernel)",
   "language": "python",
   "name": "python3"
  },
  "language_info": {
   "codemirror_mode": {
    "name": "ipython",
    "version": 3
   },
   "file_extension": ".py",
   "mimetype": "text/x-python",
   "name": "python",
   "nbconvert_exporter": "python",
   "pygments_lexer": "ipython3",
   "version": "3.9.12"
  }
 },
 "nbformat": 4,
 "nbformat_minor": 5
}
