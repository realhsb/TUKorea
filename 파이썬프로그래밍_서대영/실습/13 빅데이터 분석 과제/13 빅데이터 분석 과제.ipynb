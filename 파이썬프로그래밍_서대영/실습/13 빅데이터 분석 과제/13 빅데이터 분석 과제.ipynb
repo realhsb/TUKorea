{
 "cells": [
  {
   "cell_type": "code",
   "execution_count": 1,
   "id": "34fa732a",
   "metadata": {},
   "outputs": [],
   "source": [
    "# https://networkx.org/documentation/stable/index.html"
   ]
  },
  {
   "cell_type": "markdown",
   "id": "4147cd4b",
   "metadata": {},
   "source": [
    "# 13.1 NetworkX"
   ]
  },
  {
   "cell_type": "markdown",
   "id": "bde907c1",
   "metadata": {},
   "source": [
    "## 노드/엣지의 삽입\n",
    "### NetworkX\n",
    "- 노드(node)와 엣지(edge)로 연결된 네트워크를 분석"
   ]
  },
  {
   "cell_type": "code",
   "execution_count": 2,
   "id": "d8539361",
   "metadata": {},
   "outputs": [
    {
     "ename": "ImportError",
     "evalue": "cannot import name 'gcd' from 'fractions' (/opt/anaconda3/lib/python3.9/fractions.py)",
     "output_type": "error",
     "traceback": [
      "\u001b[0;31m---------------------------------------------------------------------------\u001b[0m",
      "\u001b[0;31mImportError\u001b[0m                               Traceback (most recent call last)",
      "Input \u001b[0;32mIn [2]\u001b[0m, in \u001b[0;36m<cell line: 1>\u001b[0;34m()\u001b[0m\n\u001b[0;32m----> 1\u001b[0m \u001b[38;5;28;01mimport\u001b[39;00m \u001b[38;5;21;01mnetworkx\u001b[39;00m \u001b[38;5;28;01mas\u001b[39;00m \u001b[38;5;21;01mnx\u001b[39;00m\n\u001b[1;32m      2\u001b[0m G \u001b[38;5;241m=\u001b[39m nx\u001b[38;5;241m.\u001b[39mGraph()\n",
      "File \u001b[0;32m/opt/anaconda3/lib/python3.9/site-packages/networkx/__init__.py:114\u001b[0m, in \u001b[0;36m<module>\u001b[0;34m\u001b[0m\n\u001b[1;32m    111\u001b[0m \u001b[38;5;28;01mimport\u001b[39;00m \u001b[38;5;21;01mnetworkx\u001b[39;00m\u001b[38;5;21;01m.\u001b[39;00m\u001b[38;5;21;01mrelabel\u001b[39;00m\n\u001b[1;32m    112\u001b[0m \u001b[38;5;28;01mfrom\u001b[39;00m \u001b[38;5;21;01mnetworkx\u001b[39;00m\u001b[38;5;21;01m.\u001b[39;00m\u001b[38;5;21;01mrelabel\u001b[39;00m \u001b[38;5;28;01mimport\u001b[39;00m \u001b[38;5;241m*\u001b[39m\n\u001b[0;32m--> 114\u001b[0m \u001b[38;5;28;01mimport\u001b[39;00m \u001b[38;5;21;01mnetworkx\u001b[39;00m\u001b[38;5;21;01m.\u001b[39;00m\u001b[38;5;21;01mgenerators\u001b[39;00m\n\u001b[1;32m    115\u001b[0m \u001b[38;5;28;01mfrom\u001b[39;00m \u001b[38;5;21;01mnetworkx\u001b[39;00m\u001b[38;5;21;01m.\u001b[39;00m\u001b[38;5;21;01mgenerators\u001b[39;00m \u001b[38;5;28;01mimport\u001b[39;00m \u001b[38;5;241m*\u001b[39m\n\u001b[1;32m    117\u001b[0m \u001b[38;5;28;01mimport\u001b[39;00m \u001b[38;5;21;01mnetworkx\u001b[39;00m\u001b[38;5;21;01m.\u001b[39;00m\u001b[38;5;21;01mreadwrite\u001b[39;00m\n",
      "File \u001b[0;32m/opt/anaconda3/lib/python3.9/site-packages/networkx/generators/__init__.py:14\u001b[0m, in \u001b[0;36m<module>\u001b[0;34m\u001b[0m\n\u001b[1;32m     12\u001b[0m \u001b[38;5;28;01mfrom\u001b[39;00m \u001b[38;5;21;01mnetworkx\u001b[39;00m\u001b[38;5;21;01m.\u001b[39;00m\u001b[38;5;21;01mgenerators\u001b[39;00m\u001b[38;5;21;01m.\u001b[39;00m\u001b[38;5;21;01mexpanders\u001b[39;00m \u001b[38;5;28;01mimport\u001b[39;00m \u001b[38;5;241m*\u001b[39m\n\u001b[1;32m     13\u001b[0m \u001b[38;5;28;01mfrom\u001b[39;00m \u001b[38;5;21;01mnetworkx\u001b[39;00m\u001b[38;5;21;01m.\u001b[39;00m\u001b[38;5;21;01mgenerators\u001b[39;00m\u001b[38;5;21;01m.\u001b[39;00m\u001b[38;5;21;01mgeometric\u001b[39;00m \u001b[38;5;28;01mimport\u001b[39;00m \u001b[38;5;241m*\u001b[39m\n\u001b[0;32m---> 14\u001b[0m \u001b[38;5;28;01mfrom\u001b[39;00m \u001b[38;5;21;01mnetworkx\u001b[39;00m\u001b[38;5;21;01m.\u001b[39;00m\u001b[38;5;21;01mgenerators\u001b[39;00m\u001b[38;5;21;01m.\u001b[39;00m\u001b[38;5;21;01mintersection\u001b[39;00m \u001b[38;5;28;01mimport\u001b[39;00m \u001b[38;5;241m*\u001b[39m\n\u001b[1;32m     15\u001b[0m \u001b[38;5;28;01mfrom\u001b[39;00m \u001b[38;5;21;01mnetworkx\u001b[39;00m\u001b[38;5;21;01m.\u001b[39;00m\u001b[38;5;21;01mgenerators\u001b[39;00m\u001b[38;5;21;01m.\u001b[39;00m\u001b[38;5;21;01mjoint_degree_seq\u001b[39;00m \u001b[38;5;28;01mimport\u001b[39;00m \u001b[38;5;241m*\u001b[39m\n\u001b[1;32m     16\u001b[0m \u001b[38;5;28;01mfrom\u001b[39;00m \u001b[38;5;21;01mnetworkx\u001b[39;00m\u001b[38;5;21;01m.\u001b[39;00m\u001b[38;5;21;01mgenerators\u001b[39;00m\u001b[38;5;21;01m.\u001b[39;00m\u001b[38;5;21;01mlattice\u001b[39;00m \u001b[38;5;28;01mimport\u001b[39;00m \u001b[38;5;241m*\u001b[39m\n",
      "File \u001b[0;32m/opt/anaconda3/lib/python3.9/site-packages/networkx/generators/intersection.py:13\u001b[0m, in \u001b[0;36m<module>\u001b[0;34m\u001b[0m\n\u001b[1;32m     11\u001b[0m \u001b[38;5;28;01mimport\u001b[39;00m \u001b[38;5;21;01mrandom\u001b[39;00m\n\u001b[1;32m     12\u001b[0m \u001b[38;5;28;01mimport\u001b[39;00m \u001b[38;5;21;01mnetworkx\u001b[39;00m \u001b[38;5;28;01mas\u001b[39;00m \u001b[38;5;21;01mnx\u001b[39;00m\n\u001b[0;32m---> 13\u001b[0m \u001b[38;5;28;01mfrom\u001b[39;00m \u001b[38;5;21;01mnetworkx\u001b[39;00m\u001b[38;5;21;01m.\u001b[39;00m\u001b[38;5;21;01malgorithms\u001b[39;00m \u001b[38;5;28;01mimport\u001b[39;00m bipartite\n\u001b[1;32m     14\u001b[0m \u001b[38;5;28;01mfrom\u001b[39;00m \u001b[38;5;21;01mnetworkx\u001b[39;00m\u001b[38;5;21;01m.\u001b[39;00m\u001b[38;5;21;01mutils\u001b[39;00m \u001b[38;5;28;01mimport\u001b[39;00m py_random_state\n\u001b[1;32m     16\u001b[0m __author__ \u001b[38;5;241m=\u001b[39m \u001b[38;5;124m\"\u001b[39m\u001b[38;5;130;01m\\n\u001b[39;00m\u001b[38;5;124m\"\u001b[39m\u001b[38;5;241m.\u001b[39mjoin([\u001b[38;5;124m'\u001b[39m\u001b[38;5;124mAric Hagberg (hagberg@lanl.gov)\u001b[39m\u001b[38;5;124m'\u001b[39m])\n",
      "File \u001b[0;32m/opt/anaconda3/lib/python3.9/site-packages/networkx/algorithms/__init__.py:16\u001b[0m, in \u001b[0;36m<module>\u001b[0;34m\u001b[0m\n\u001b[1;32m     14\u001b[0m \u001b[38;5;28;01mfrom\u001b[39;00m \u001b[38;5;21;01mnetworkx\u001b[39;00m\u001b[38;5;21;01m.\u001b[39;00m\u001b[38;5;21;01malgorithms\u001b[39;00m\u001b[38;5;21;01m.\u001b[39;00m\u001b[38;5;21;01mcycles\u001b[39;00m \u001b[38;5;28;01mimport\u001b[39;00m \u001b[38;5;241m*\u001b[39m\n\u001b[1;32m     15\u001b[0m \u001b[38;5;28;01mfrom\u001b[39;00m \u001b[38;5;21;01mnetworkx\u001b[39;00m\u001b[38;5;21;01m.\u001b[39;00m\u001b[38;5;21;01malgorithms\u001b[39;00m\u001b[38;5;21;01m.\u001b[39;00m\u001b[38;5;21;01mcuts\u001b[39;00m \u001b[38;5;28;01mimport\u001b[39;00m \u001b[38;5;241m*\u001b[39m\n\u001b[0;32m---> 16\u001b[0m \u001b[38;5;28;01mfrom\u001b[39;00m \u001b[38;5;21;01mnetworkx\u001b[39;00m\u001b[38;5;21;01m.\u001b[39;00m\u001b[38;5;21;01malgorithms\u001b[39;00m\u001b[38;5;21;01m.\u001b[39;00m\u001b[38;5;21;01mdag\u001b[39;00m \u001b[38;5;28;01mimport\u001b[39;00m \u001b[38;5;241m*\u001b[39m\n\u001b[1;32m     17\u001b[0m \u001b[38;5;28;01mfrom\u001b[39;00m \u001b[38;5;21;01mnetworkx\u001b[39;00m\u001b[38;5;21;01m.\u001b[39;00m\u001b[38;5;21;01malgorithms\u001b[39;00m\u001b[38;5;21;01m.\u001b[39;00m\u001b[38;5;21;01mdistance_measures\u001b[39;00m \u001b[38;5;28;01mimport\u001b[39;00m \u001b[38;5;241m*\u001b[39m\n\u001b[1;32m     18\u001b[0m \u001b[38;5;28;01mfrom\u001b[39;00m \u001b[38;5;21;01mnetworkx\u001b[39;00m\u001b[38;5;21;01m.\u001b[39;00m\u001b[38;5;21;01malgorithms\u001b[39;00m\u001b[38;5;21;01m.\u001b[39;00m\u001b[38;5;21;01mdistance_regular\u001b[39;00m \u001b[38;5;28;01mimport\u001b[39;00m \u001b[38;5;241m*\u001b[39m\n",
      "File \u001b[0;32m/opt/anaconda3/lib/python3.9/site-packages/networkx/algorithms/dag.py:23\u001b[0m, in \u001b[0;36m<module>\u001b[0;34m\u001b[0m\n\u001b[1;32m     15\u001b[0m \u001b[38;5;124;03m\"\"\"Algorithms for directed acyclic graphs (DAGs).\u001b[39;00m\n\u001b[1;32m     16\u001b[0m \n\u001b[1;32m     17\u001b[0m \u001b[38;5;124;03mNote that most of these functions are only guaranteed to work for DAGs.\u001b[39;00m\n\u001b[1;32m     18\u001b[0m \u001b[38;5;124;03mIn general, these functions do not check for acyclic-ness, so it is up\u001b[39;00m\n\u001b[1;32m     19\u001b[0m \u001b[38;5;124;03mto the user to check for that.\u001b[39;00m\n\u001b[1;32m     20\u001b[0m \u001b[38;5;124;03m\"\"\"\u001b[39;00m\n\u001b[1;32m     22\u001b[0m \u001b[38;5;28;01mfrom\u001b[39;00m \u001b[38;5;21;01mcollections\u001b[39;00m \u001b[38;5;28;01mimport\u001b[39;00m defaultdict, deque\n\u001b[0;32m---> 23\u001b[0m \u001b[38;5;28;01mfrom\u001b[39;00m \u001b[38;5;21;01mfractions\u001b[39;00m \u001b[38;5;28;01mimport\u001b[39;00m gcd\n\u001b[1;32m     24\u001b[0m \u001b[38;5;28;01mfrom\u001b[39;00m \u001b[38;5;21;01mfunctools\u001b[39;00m \u001b[38;5;28;01mimport\u001b[39;00m partial\n\u001b[1;32m     25\u001b[0m \u001b[38;5;28;01mfrom\u001b[39;00m \u001b[38;5;21;01mitertools\u001b[39;00m \u001b[38;5;28;01mimport\u001b[39;00m chain\n",
      "\u001b[0;31mImportError\u001b[0m: cannot import name 'gcd' from 'fractions' (/opt/anaconda3/lib/python3.9/fractions.py)"
     ]
    }
   ],
   "source": [
    "import networkx as nx\n",
    "G = nx.Graph()"
   ]
  },
  {
   "cell_type": "markdown",
   "id": "45efab6f",
   "metadata": {},
   "source": [
    "### 노드/엣지의 삽입\n",
    "- `add node()` : 노드 삽입할 수 있으며 값을 입력하면 해당 노드의 라벨(label)로 지정\n",
    "- `nodes()` : 그래프에 포함되어 있는 모든 노드 출력\n",
    "- 문자열로 라벨로 사용 가능"
   ]
  },
  {
   "cell_type": "code",
   "execution_count": null,
   "id": "b26449f7",
   "metadata": {},
   "outputs": [],
   "source": [
    "G.add_node(1)\n",
    "print(G.nodes())"
   ]
  },
  {
   "cell_type": "code",
   "execution_count": null,
   "id": "66327e21",
   "metadata": {
    "scrolled": true
   },
   "outputs": [],
   "source": [
    "G.add_node('P')\n",
    "G.add_node('Hi')\n",
    "print(G.nodes())"
   ]
  },
  {
   "cell_type": "markdown",
   "id": "25d07ca0",
   "metadata": {},
   "source": [
    "- `add nodes from()` : 메소드를 입력하면 리스트 형태의 데이터 입력이 가능하여 한 번에 다수의 노드를 삽입할 수 있음"
   ]
  },
  {
   "cell_type": "code",
   "execution_count": null,
   "id": "216092aa",
   "metadata": {},
   "outputs": [],
   "source": [
    "G.add_nodes_from([2,3])\n",
    "print(G.nodes())"
   ]
  },
  {
   "cell_type": "markdown",
   "id": "6a208a58",
   "metadata": {},
   "source": [
    "### `draw()`\n",
    "- 그래프를 그림으로 출력\n",
    "- `with labels` 의 속성이 `True` 이면 라벨을 출력하며, `False`이면 라벨을 출력하지 않음\n",
    "- `node color`는 라벨의 색상을 설정"
   ]
  },
  {
   "cell_type": "code",
   "execution_count": null,
   "id": "ba8ef2a5",
   "metadata": {},
   "outputs": [],
   "source": [
    "nx.draw(G, with_labels = True, node_color='lightblue')"
   ]
  },
  {
   "cell_type": "markdown",
   "id": "03718839",
   "metadata": {},
   "source": [
    "### `edge()`\n",
    "- 연결 상태를 리스트 형태로 확인 "
   ]
  },
  {
   "cell_type": "code",
   "execution_count": null,
   "id": "ec79f994",
   "metadata": {},
   "outputs": [],
   "source": [
    "G.add_edge(1,2)\n",
    "nx.draw(G, with_labels=True, node_color='lightblue', edge_color ='grey')"
   ]
  },
  {
   "cell_type": "code",
   "execution_count": null,
   "id": "8a6d3db8",
   "metadata": {},
   "outputs": [],
   "source": [
    "print(G.edges())"
   ]
  },
  {
   "cell_type": "markdown",
   "id": "ab63f4d2",
   "metadata": {},
   "source": [
    "### `path_graph()`"
   ]
  },
  {
   "cell_type": "code",
   "execution_count": null,
   "id": "7564b465",
   "metadata": {},
   "outputs": [],
   "source": [
    "import networkx as nx\n",
    "G = nx.path_graph(4) # 0~3의 노드를 자동생성하고 그들을 잇는 에지들이 만들어짐\n",
    "nx.draw(G, with_labels = True, node_color='lightblue', edge_color='grey')"
   ]
  },
  {
   "cell_type": "markdown",
   "id": "b2104437",
   "metadata": {},
   "source": [
    "### `add_path()`"
   ]
  },
  {
   "cell_type": "code",
   "execution_count": null,
   "id": "f77c7ec6",
   "metadata": {},
   "outputs": [],
   "source": [
    "import networkx as nx\n",
    "G = nx.Graph()\n",
    "nx.add_path(G,[0,1,2,3])\n",
    "nx.draw(G, with_labels = True, node_color='lightblue', edge_color='grey')\n"
   ]
  },
  {
   "cell_type": "markdown",
   "id": "e97f78d6",
   "metadata": {},
   "source": [
    "### `degree()`\n",
    "- 사전 형식으로 모든 노드에 대한 차수를 쌍으로 저장"
   ]
  },
  {
   "cell_type": "code",
   "execution_count": null,
   "id": "59934430",
   "metadata": {},
   "outputs": [],
   "source": [
    "import networkx as nx\n",
    "G = nx.Graph()\n",
    "nx.add_path(G, [0,1,2,3])"
   ]
  },
  {
   "cell_type": "code",
   "execution_count": null,
   "id": "0ccd2e7c",
   "metadata": {},
   "outputs": [],
   "source": [
    "print(G.degree(0)) # 노드 0에 대한 차수만 출력\n",
    "print(G.degree([0,1])) # 노드 0과 노드 1에 대한 차수만 출력\n",
    "print(G.degree()) # 모든 노드에 대한 차수를 출력"
   ]
  },
  {
   "cell_type": "markdown",
   "id": "5d0858d0",
   "metadata": {},
   "source": [
    "### `remove_edge()`\n",
    "- 엣지를 삭제 "
   ]
  },
  {
   "cell_type": "code",
   "execution_count": null,
   "id": "606723bd",
   "metadata": {},
   "outputs": [],
   "source": [
    "print(G.edges())\n",
    "G.remove_edge(1,2)\n",
    "print(G.edges())"
   ]
  },
  {
   "cell_type": "markdown",
   "id": "5c1c1997",
   "metadata": {},
   "source": [
    "### `remove_edges_from()`\n",
    "- 다수 개의 엣지를 삭제"
   ]
  },
  {
   "cell_type": "code",
   "execution_count": null,
   "id": "54639409",
   "metadata": {},
   "outputs": [],
   "source": [
    "print(G.edges())\n",
    "G.remove_edges_from([(1,2),(1,3)])\n",
    "print(G.edges())"
   ]
  },
  {
   "cell_type": "markdown",
   "id": "23372325",
   "metadata": {},
   "source": [
    "### `remove_node()`\n",
    "- 노드를 삭제"
   ]
  },
  {
   "cell_type": "code",
   "execution_count": null,
   "id": "3ec3a022",
   "metadata": {},
   "outputs": [],
   "source": [
    "print(G.nodes())\n",
    "G.remove_node(2)\n",
    "print(G.nodes())"
   ]
  },
  {
   "cell_type": "markdown",
   "id": "24d34dda",
   "metadata": {},
   "source": [
    "### `remove_nodes_from()`\n",
    "- 다수 개의 노드를 삭제"
   ]
  },
  {
   "cell_type": "code",
   "execution_count": null,
   "id": "47f0cc96",
   "metadata": {},
   "outputs": [],
   "source": [
    "print(G.nodes())\n",
    "G.remove_nodes_from([0,1,3])\n",
    "print(G.nodes())"
   ]
  },
  {
   "cell_type": "markdown",
   "id": "1badf907",
   "metadata": {},
   "source": [
    "### `number_of_nodes()`\n",
    "- 노드 개수 "
   ]
  },
  {
   "cell_type": "code",
   "execution_count": null,
   "id": "826ef8e7",
   "metadata": {},
   "outputs": [],
   "source": [
    "import networkx as nx\n",
    "G = nx.Graph()\n",
    "G.add_nodes_from([1,2,3,4,5])\n",
    "G.add_edges_from([(1,2),(1,3),(1,4),(1,5),(4,5)])"
   ]
  },
  {
   "cell_type": "code",
   "execution_count": null,
   "id": "c4d0cd6e",
   "metadata": {},
   "outputs": [],
   "source": [
    "print('No. nodes : ', G.number_of_nodes())\n",
    "print('No. edges : ', G.number_of_edges())"
   ]
  },
  {
   "cell_type": "markdown",
   "id": "0b108304",
   "metadata": {},
   "source": [
    "### `number_of_edges()`\n",
    "- 엣지 개수 "
   ]
  },
  {
   "cell_type": "code",
   "execution_count": null,
   "id": "3bb8f0bc",
   "metadata": {},
   "outputs": [],
   "source": [
    "G.remove_edge(1,3)"
   ]
  },
  {
   "cell_type": "code",
   "execution_count": null,
   "id": "28d14b6d",
   "metadata": {},
   "outputs": [],
   "source": [
    "print('No. nodes : ', G.number_of_nodes())\n",
    "print('No. edges : ', G.number_of_edges())"
   ]
  },
  {
   "cell_type": "markdown",
   "id": "450a7243",
   "metadata": {},
   "source": [
    "### 노드를 삭제하면 연결된 엣지도 자동으로 삭제 "
   ]
  },
  {
   "cell_type": "code",
   "execution_count": null,
   "id": "eb3b40ec",
   "metadata": {},
   "outputs": [],
   "source": [
    "import networkx as nx\n",
    "G = nx.Graph()\n",
    "G.add_nodes_from([1,2,3,4,5])\n",
    "G.add_edges_from([(1,2), (1,3), (1,4), (1,5), (4,5)])"
   ]
  },
  {
   "cell_type": "code",
   "execution_count": null,
   "id": "8cde8123",
   "metadata": {},
   "outputs": [],
   "source": [
    "G.remove_node(3)"
   ]
  },
  {
   "cell_type": "code",
   "execution_count": null,
   "id": "1f0f8aaa",
   "metadata": {},
   "outputs": [],
   "source": [
    "print('No. nodes : ', G.number_of_nodes())\n",
    "print('No. edges : ', G.number_of_edges())"
   ]
  },
  {
   "cell_type": "markdown",
   "id": "b4569a27",
   "metadata": {},
   "source": [
    "## 특정 확률분포의 그래프 생성기 "
   ]
  },
  {
   "cell_type": "markdown",
   "id": "1babf2e5",
   "metadata": {},
   "source": [
    "### `erdos_renyi_graph()`"
   ]
  },
  {
   "cell_type": "code",
   "execution_count": null,
   "id": "010b9003",
   "metadata": {},
   "outputs": [],
   "source": [
    "import networkx as nx\n",
    "import matplotlib.pyplot as plt\n",
    "G = nx.erdos_renyi_graph(25, 0.2)\n",
    "nx.draw(G)"
   ]
  },
  {
   "cell_type": "markdown",
   "id": "e0db2578",
   "metadata": {},
   "source": [
    "### `watts_strogatz_graph`"
   ]
  },
  {
   "cell_type": "code",
   "execution_count": null,
   "id": "93abd25d",
   "metadata": {},
   "outputs": [],
   "source": [
    "G = nx.watts_strogatz_graph(30, 3, 0.1)\n",
    "nx.draw(G)"
   ]
  },
  {
   "cell_type": "markdown",
   "id": "5f676d14",
   "metadata": {},
   "source": [
    "### `barabasi_albert_graph()`"
   ]
  },
  {
   "cell_type": "code",
   "execution_count": null,
   "id": "62f30278",
   "metadata": {},
   "outputs": [],
   "source": [
    "G = nx.barabasi_albert_graph(25, 5)\n",
    "nx.draw(G)"
   ]
  },
  {
   "cell_type": "markdown",
   "id": "371bfe5b",
   "metadata": {},
   "source": [
    "### `random_lobster()`"
   ]
  },
  {
   "cell_type": "code",
   "execution_count": null,
   "id": "4ebc1e4b",
   "metadata": {},
   "outputs": [],
   "source": [
    "G = nx.random_lobster(25, 0.9, 0.9)\n",
    "nx.draw(G)"
   ]
  },
  {
   "cell_type": "markdown",
   "id": "d73a73f7",
   "metadata": {},
   "source": [
    "### `erdos_renyi_graph()`\n",
    "- 베르누이 시행(Bernoulli trial)에 근거한 방식\n",
    "- `scipy.stats`에서 제공\n",
    "- `rvs()` 메소드를 이용하면 특정 확률을 입력하여 결과를 얻어낼 수 있음 "
   ]
  },
  {
   "cell_type": "code",
   "execution_count": null,
   "id": "0e92a8cb",
   "metadata": {},
   "outputs": [],
   "source": [
    "from scipy.stats import bernoulli\n",
    "for i in range(6) :\n",
    "    print(bernoulli.rvs(p=0.33))"
   ]
  },
  {
   "cell_type": "markdown",
   "id": "e3cf5528",
   "metadata": {},
   "source": [
    "### - 확률적인 히스토그램 그리기 "
   ]
  },
  {
   "cell_type": "code",
   "execution_count": null,
   "id": "6f194c0f",
   "metadata": {},
   "outputs": [],
   "source": [
    "import numpy as np\n",
    "import networkx as nx\n",
    "import matplotlib.pyplot as plt\n",
    "from scipy.stats import bernoulli\n",
    "def erdosGraph(N, p) :\n",
    "    G = nx.Graph()\n",
    "    G.add_nodes_from(range(N))\n",
    "    listG = list(G.nodes())\n",
    "    for i, node1 in enumerate(listG) :\n",
    "        for node2 in listG[i+1:]:\n",
    "            if (bernoulli.rvs(p=p)) :\n",
    "                G.add_edge(node1, node2)\n",
    "    return G"
   ]
  },
  {
   "cell_type": "code",
   "execution_count": null,
   "id": "d894a0ed",
   "metadata": {},
   "outputs": [],
   "source": [
    "G1 = erdosGraph(80, 0.3)\n",
    "plt.hist(list([d for n, d in G1.degree()]), histtype='step')"
   ]
  },
  {
   "cell_type": "markdown",
   "id": "791e0500",
   "metadata": {},
   "source": [
    "### - 3번 반복 "
   ]
  },
  {
   "cell_type": "code",
   "execution_count": null,
   "id": "f909e32d",
   "metadata": {},
   "outputs": [],
   "source": [
    "import numpy as np\n",
    "import networkx as nx\n",
    "import matplotlib.pyplot as plt\n",
    "from scipy.stats import bernoulli\n",
    "def erdosGraph(N, p) :\n",
    "    G = nx.Graph()\n",
    "    G.add_nodes_from(range(N))\n",
    "    listG = list(G.nodes())\n",
    "    for i, node1 in enumerate(listG) :\n",
    "        for node2 in listG[i+1:]:\n",
    "            if (bernoulli.rvs(p=p)) :\n",
    "                G.add_edge(node1, node2)\n",
    "    return G\n",
    "\n",
    "def pltGraph(G) :\n",
    "    plt.hist(list([d for n, d in G.degree()]), histtype='step')"
   ]
  },
  {
   "cell_type": "code",
   "execution_count": null,
   "id": "412d5d6e",
   "metadata": {
    "scrolled": true
   },
   "outputs": [],
   "source": [
    "G1 = erdosGraph(80, 0.3)\n",
    "pltGraph(G1)\n",
    "G2 = erdosGraph(80, 0.3)\n",
    "pltGraph(G2)\n",
    "G3 = erdosGraph(80, 0.3)\n",
    "pltGraph(G3)"
   ]
  },
  {
   "cell_type": "markdown",
   "id": "ec1b0713",
   "metadata": {},
   "source": [
    "## 엑셀 파일로 그래프 생성 "
   ]
  },
  {
   "cell_type": "markdown",
   "id": "6a6018b2",
   "metadata": {},
   "source": [
    "- x X y 행렬에서 인덱스 번호인 i와 j의 값이 같은 위치, 즉 대각선을 기점으로 대칭의 위치에 있는 값들은 모두 동일한 값으로 배치"
   ]
  },
  {
   "cell_type": "code",
   "execution_count": null,
   "id": "ade51ea3",
   "metadata": {},
   "outputs": [],
   "source": []
  }
 ],
 "metadata": {
  "kernelspec": {
   "display_name": "Python 3 (ipykernel)",
   "language": "python",
   "name": "python3"
  },
  "language_info": {
   "codemirror_mode": {
    "name": "ipython",
    "version": 3
   },
   "file_extension": ".py",
   "mimetype": "text/x-python",
   "name": "python",
   "nbconvert_exporter": "python",
   "pygments_lexer": "ipython3",
   "version": "3.9.12"
  }
 },
 "nbformat": 4,
 "nbformat_minor": 5
}
