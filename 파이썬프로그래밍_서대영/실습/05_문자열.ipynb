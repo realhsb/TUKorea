{
 "cells": [
  {
   "cell_type": "markdown",
   "id": "ac9a17f5",
   "metadata": {},
   "source": [
    "# 5.1 문자열\n",
    "## 문자열\n",
    "- 따옴표"
   ]
  },
  {
   "cell_type": "code",
   "execution_count": 2,
   "id": "1b2bd61a",
   "metadata": {},
   "outputs": [
    {
     "name": "stdout",
     "output_type": "stream",
     "text": [
      "hello\n",
      "hello\n"
     ]
    }
   ],
   "source": [
    "# 문자열은 큰따옴표와 작은따옴표 모두 사용할 수 있음\n",
    "print(\"hello\")\n",
    "print('hello')"
   ]
  },
  {
   "cell_type": "code",
   "execution_count": 3,
   "id": "dfe76260",
   "metadata": {},
   "outputs": [
    {
     "name": "stdout",
     "output_type": "stream",
     "text": [
      "My friend's house.\n"
     ]
    }
   ],
   "source": [
    "# 작은따옴표를 출력해야 하는 문자열은 큰따옴표를 사용\n",
    "print(\"My friend's house.\")"
   ]
  },
  {
   "cell_type": "code",
   "execution_count": 5,
   "id": "2fc056aa",
   "metadata": {},
   "outputs": [
    {
     "name": "stdout",
     "output_type": "stream",
     "text": [
      "그녀가 말했다. \"안녕!\".\n"
     ]
    }
   ],
   "source": [
    "# 큰따옴표를 출력해야 하는 문자열은 작은따옴표를 사용\n",
    "print('그녀가 말했다. \"안녕!\".')"
   ]
  },
  {
   "cell_type": "markdown",
   "id": "b88f82af",
   "metadata": {},
   "source": [
    "## 문자열 읽어오기\n",
    "- 인덱스"
   ]
  },
  {
   "cell_type": "code",
   "execution_count": 6,
   "id": "a0417bb2",
   "metadata": {},
   "outputs": [
    {
     "name": "stdout",
     "output_type": "stream",
     "text": [
      "g\n"
     ]
    }
   ],
   "source": [
    "# 문자열을 변수에 저장하면 자동적으로 배열이 만들어짐\n",
    "animal = 'frog'\n",
    "print(animal[3])"
   ]
  },
  {
   "cell_type": "code",
   "execution_count": 7,
   "id": "d19201d1",
   "metadata": {},
   "outputs": [],
   "source": [
    "# n개의 저장 장소가 있다면 인덱스는 0부터 n-1까지 존재"
   ]
  },
  {
   "cell_type": "markdown",
   "id": "cfe5ec33",
   "metadata": {},
   "source": [
    "|0|1|2|3|\n",
    "|---|---|---|---|\n",
    "|f|r|o|g|\n",
    "|-4|-3|-2|-1|"
   ]
  },
  {
   "cell_type": "code",
   "execution_count": 8,
   "id": "e3e7f560",
   "metadata": {},
   "outputs": [],
   "source": [
    "# 한글에서도 같은 방식으로 동작"
   ]
  },
  {
   "cell_type": "markdown",
   "id": "1b4e7be6",
   "metadata": {},
   "source": [
    "## 문자열 슬라이싱"
   ]
  },
  {
   "cell_type": "code",
   "execution_count": 9,
   "id": "c9114427",
   "metadata": {},
   "outputs": [
    {
     "ename": "SyntaxError",
     "evalue": "invalid syntax (2468144237.py, line 2)",
     "output_type": "error",
     "traceback": [
      "\u001b[0;36m  Input \u001b[0;32mIn [9]\u001b[0;36m\u001b[0m\n\u001b[0;31m    [시작:끝+1:단계]\u001b[0m\n\u001b[0m       ^\u001b[0m\n\u001b[0;31mSyntaxError\u001b[0m\u001b[0;31m:\u001b[0m invalid syntax\n"
     ]
    }
   ],
   "source": [
    "# 인자 형식\n",
    "[시작:끝+1:단계]"
   ]
  },
  {
   "cell_type": "code",
   "execution_count": 10,
   "id": "239bb92f",
   "metadata": {},
   "outputs": [
    {
     "name": "stdout",
     "output_type": "stream",
     "text": [
      "r\n"
     ]
    }
   ],
   "source": [
    "# 인자가 1개인 경우\n",
    "animal = 'frog'\n",
    "print(animal[1])"
   ]
  },
  {
   "cell_type": "code",
   "execution_count": 11,
   "id": "86ad2d86",
   "metadata": {},
   "outputs": [
    {
     "name": "stdout",
     "output_type": "stream",
     "text": [
      "ro\n"
     ]
    }
   ],
   "source": [
    "# 인자가 2개인 경우\n",
    "animal = 'frog'\n",
    "print(animal[1:3])"
   ]
  },
  {
   "cell_type": "code",
   "execution_count": 12,
   "id": "b2044159",
   "metadata": {},
   "outputs": [
    {
     "name": "stdout",
     "output_type": "stream",
     "text": [
      "fo\n"
     ]
    }
   ],
   "source": [
    "# 인자가 3개인 경우\n",
    "animal = 'frog'\n",
    "print(animal[0:3:2])"
   ]
  },
  {
   "cell_type": "markdown",
   "id": "b4f16685",
   "metadata": {},
   "source": [
    "## 문자열 슬라이싱 \n",
    "- 인자가 생략된 경우"
   ]
  },
  {
   "cell_type": "code",
   "execution_count": 13,
   "id": "2cac9bf9",
   "metadata": {},
   "outputs": [
    {
     "name": "stdout",
     "output_type": "stream",
     "text": [
      "frog\n",
      "rog\n",
      "fr\n"
     ]
    }
   ],
   "source": [
    "# 콜론(:)이 1개일 경우\n",
    "animal = 'frog'\n",
    "print(animal[:])\n",
    "print(animal[1:])\n",
    "print(animal[:2])"
   ]
  },
  {
   "cell_type": "code",
   "execution_count": 1,
   "id": "b9ba997b",
   "metadata": {},
   "outputs": [
    {
     "name": "stdout",
     "output_type": "stream",
     "text": [
      "fo\n",
      "gr\n"
     ]
    }
   ],
   "source": [
    "#콜론(:)이 2개일 경우\n",
    "animal = 'frog'\n",
    "print(animal[::2])\n",
    "print(animal[::-2])"
   ]
  },
  {
   "cell_type": "markdown",
   "id": "08068436",
   "metadata": {},
   "source": [
    "## 문자열의 병합 "
   ]
  },
  {
   "cell_type": "code",
   "execution_count": 2,
   "id": "0742b59d",
   "metadata": {},
   "outputs": [
    {
     "name": "stdout",
     "output_type": "stream",
     "text": [
      "진돗개\n"
     ]
    }
   ],
   "source": [
    "# 2개의 문자열 사이에 '+' 기호를 넣으면 앞뒤의 문자열이 병합됨\n",
    "dog = '개'\n",
    "animal = '진돗' + dog\n",
    "print(animal)"
   ]
  },
  {
   "cell_type": "markdown",
   "id": "1bca84c4",
   "metadata": {},
   "source": [
    "## 문자열 함수(메소드)\n",
    "- len() 함수"
   ]
  },
  {
   "cell_type": "code",
   "execution_count": 3,
   "id": "9bc3927d",
   "metadata": {},
   "outputs": [
    {
     "name": "stdout",
     "output_type": "stream",
     "text": [
      "8\n"
     ]
    }
   ],
   "source": [
    "# 괄호 안의 문자열(객체)의 길이를 반환\n",
    "animal = 'elephant'\n",
    "print(len(animal))"
   ]
  },
  {
   "cell_type": "markdown",
   "id": "56432c2b",
   "metadata": {},
   "source": [
    "- 메소드 호출"
   ]
  },
  {
   "cell_type": "code",
   "execution_count": 5,
   "id": "7d700ca6",
   "metadata": {},
   "outputs": [
    {
     "name": "stdout",
     "output_type": "stream",
     "text": [
      "총 개수 :  2\n"
     ]
    }
   ],
   "source": [
    "# 문자열형 객체에서 제공하는 다양한 메소드(함수)를 점(.)으로 연결하여 호출 \n",
    "animal = 'elephant'\n",
    "print('총 개수 : ', animal.count('e'))"
   ]
  },
  {
   "cell_type": "markdown",
   "id": "d886315e",
   "metadata": {},
   "source": [
    "- 정보 수정"
   ]
  },
  {
   "cell_type": "code",
   "execution_count": 7,
   "id": "bb362bbf",
   "metadata": {},
   "outputs": [
    {
     "name": "stdout",
     "output_type": "stream",
     "text": [
      "선택수정 :  Python PrograM\n",
      "소문자 :  python program\n",
      "대문자 :  PYTHON PROGRAM\n",
      "swap대소문자 :  PYTHON PROGRAm\n",
      "첫문자만 대문자 :  Python program\n"
     ]
    }
   ],
   "source": [
    "# 문자열의 내용을 수정할 수 있는 메소드(함수)\n",
    "ai = 'python prograM'\n",
    "print('선택수정 : ', ai.replace('p', 'P'))\n",
    "print('소문자 : ', ai.lower())\n",
    "print('대문자 : ', ai.upper())\n",
    "print('swap대소문자 : ', ai.swapcase())\n",
    "print('첫문자만 대문자 : ', ai.capitalize())"
   ]
  },
  {
   "cell_type": "code",
   "execution_count": 8,
   "id": "d656a55f",
   "metadata": {},
   "outputs": [
    {
     "name": "stdout",
     "output_type": "stream",
     "text": [
      "ELEPHANT\n"
     ]
    }
   ],
   "source": [
    "# 원래의 내용을 수정하려면 다음과 같이 명령문을 실행\n",
    "animal = 'Elephant'\n",
    "animal = animal.upper()\n",
    "print(animal)"
   ]
  },
  {
   "cell_type": "markdown",
   "id": "451b30a5",
   "metadata": {},
   "source": [
    "- 정보 수집"
   ]
  },
  {
   "cell_type": "code",
   "execution_count": 10,
   "id": "d1c994b7",
   "metadata": {},
   "outputs": [
    {
     "name": "stdout",
     "output_type": "stream",
     "text": [
      "앞쪽 찾기 :  0\n",
      "ep 찾기 :  2\n",
      "뒤쪽 찾기 :  0\n",
      "위치 :  0\n",
      "el 시작 :  True\n"
     ]
    }
   ],
   "source": [
    "animal = 'elephant'\n",
    "print('앞쪽 찾기 : ', animal.find('e'))\n",
    "print('ep 찾기 : ', animal.find('ep'))\n",
    "print('뒤쪽 찾기 : ', animal.find('e'))\n",
    "print('위치 : ', animal.index('e'))\n",
    "print('el 시작 : ', animal.startswith('el'))"
   ]
  },
  {
   "cell_type": "markdown",
   "id": "a1ac23d1",
   "metadata": {},
   "source": [
    "- in"
   ]
  },
  {
   "cell_type": "code",
   "execution_count": null,
   "id": "fafe23df",
   "metadata": {},
   "outputs": [],
   "source": [
    "# 특정 문자 또는 문자열이 해당 문자열에 존재하는지 여부를 판단\n",
    "(문짜 또는 문자열) (not) in 문자열"
   ]
  },
  {
   "cell_type": "markdown",
   "id": "2aa9e8e7",
   "metadata": {},
   "source": [
    "- 정보 분할"
   ]
  },
  {
   "cell_type": "code",
   "execution_count": 12,
   "id": "a0be3496",
   "metadata": {},
   "outputs": [
    {
     "name": "stdout",
     "output_type": "stream",
     "text": [
      "왼쪽 벗겨내기 :  elephant  \n",
      "오른쪽 벗겨내기 :    elephant\n",
      "좌우 벗겨내기 :  elephant\n"
     ]
    }
   ],
   "source": [
    "# 문자열의 공백을 삭제할 수 있는 메소드\n",
    "animal = '  elephant  '\n",
    "print('왼쪽 벗겨내기 : ', animal.lstrip())\n",
    "print('오른쪽 벗겨내기 : ', animal.rstrip())\n",
    "print('좌우 벗겨내기 : ', animal.strip())"
   ]
  },
  {
   "cell_type": "markdown",
   "id": "ab43cf85",
   "metadata": {},
   "source": [
    "## 배열을 무작위로 다루기 "
   ]
  },
  {
   "cell_type": "markdown",
   "id": "6c10ba61",
   "metadata": {},
   "source": [
    "- choice()"
   ]
  },
  {
   "cell_type": "code",
   "execution_count": 14,
   "id": "307410b1",
   "metadata": {},
   "outputs": [
    {
     "name": "stdout",
     "output_type": "stream",
     "text": [
      "우\n"
     ]
    }
   ],
   "source": [
    "# 무작위로 문자를 출력\n",
    "import random\n",
    "chars = ['한', '글', '우', '수']\n",
    "print(random.choice(chars))"
   ]
  },
  {
   "cell_type": "markdown",
   "id": "d7463ed7",
   "metadata": {},
   "source": [
    "- shuffle()"
   ]
  },
  {
   "cell_type": "code",
   "execution_count": 15,
   "id": "10868068",
   "metadata": {},
   "outputs": [
    {
     "name": "stdout",
     "output_type": "stream",
     "text": [
      "['우', '글', '한', '수']\n"
     ]
    }
   ],
   "source": [
    "# 실제로 배열의 순서가 바뀌어 저장됨\n",
    "import random\n",
    "chars = ['한', '글', '우', '수']\n",
    "random.shuffle(chars)\n",
    "print(chars)"
   ]
  },
  {
   "cell_type": "markdown",
   "id": "152334a2",
   "metadata": {},
   "source": [
    "## 배열형 자료구조\n",
    "- 배열형 자료구조"
   ]
  },
  {
   "cell_type": "code",
   "execution_count": 16,
   "id": "0f07628e",
   "metadata": {},
   "outputs": [],
   "source": [
    "# 문자열형, 유니코드 문자열형, 리스트, 튜플, 바이트배열, xrange()\n",
    "# 한 개의 변수로 다수 개의 데이터를 저장해 두고 편리하게 접근 "
   ]
  },
  {
   "cell_type": "markdown",
   "id": "d26b229d",
   "metadata": {},
   "source": [
    "- mutable 과 immutable\n",
    "|변경할 수 있는 데이터형 (mutable)|변경할 수 없는 데이터형(immutable)|\n",
    "|:---|:---|\n",
    "|- 리스트형 (list)|- 숫자형 : 정수형(int), 실수형(float)|\n",
    "|- 사전형 (dict)|- 부울형 (bool)|\n",
    "|- 집합형 (set) |- 문자열형 (str)|\n",
    "| |- 튜플형 (tuple)|"
   ]
  },
  {
   "cell_type": "markdown",
   "id": "7b3caea8",
   "metadata": {},
   "source": [
    "# 5.2 배열의 종류\n",
    "## 리스트\n",
    "- 리스트 \n",
    " - 다수의 자료형들도 입력 가능\n",
    " - 대괄호([])를 사용하며 각각의 항목들은 콤마(,)로 구분\n",
    "- 1차원 리스트"
   ]
  },
  {
   "cell_type": "code",
   "execution_count": 17,
   "id": "9fd6d26b",
   "metadata": {},
   "outputs": [
    {
     "name": "stdout",
     "output_type": "stream",
     "text": [
      "[1020, 870, 3160, 2650]\n",
      "['사과', '오렌지', '포도', '복숭아']\n",
      "870\n",
      "복숭아\n"
     ]
    }
   ],
   "source": [
    "price = [1020, 870, 3160, 2650]\n",
    "fruits = ['사과', '오렌지', '포도', '복숭아']\n",
    "print(price)\n",
    "print(fruits)\n",
    "print(price[1])\n",
    "print(fruits[-1])"
   ]
  },
  {
   "cell_type": "markdown",
   "id": "cb5a880a",
   "metadata": {},
   "source": [
    "## 리스트의 복사\n",
    "- 리스트의 복사"
   ]
  },
  {
   "cell_type": "code",
   "execution_count": 18,
   "id": "7db0c319",
   "metadata": {},
   "outputs": [
    {
     "name": "stdout",
     "output_type": "stream",
     "text": [
      "a =  [1, 5, 7]  b =  [1, 5, 7]\n"
     ]
    }
   ],
   "source": [
    "# a를 b에 복사하고 b의 index 0번에 저장된 값을 변경하면\n",
    "a = [3, 5, 7]\n",
    "b = a\n",
    "b[0] = b[0] - 2\n",
    "print('a = ', a, ' b = ', b)\n",
    "# a의 배열까지 수정됨"
   ]
  },
  {
   "cell_type": "code",
   "execution_count": 19,
   "id": "59cb19bd",
   "metadata": {},
   "outputs": [],
   "source": [
    "# 같은 객체를 두 개의 다른 변수들이 가리킴"
   ]
  },
  {
   "cell_type": "markdown",
   "id": "aff015b5",
   "metadata": {},
   "source": [
    "## 리스트에서의 병합 및 삽입\n",
    "- 복수 개 변수의 병합 "
   ]
  },
  {
   "cell_type": "code",
   "execution_count": 21,
   "id": "b7781e5e",
   "metadata": {},
   "outputs": [
    {
     "name": "stdout",
     "output_type": "stream",
     "text": [
      "Packing :  [12.23, 23.34]\n",
      "Unpacking : \n",
      "c1 :  12.23\n",
      "c2 :  23.34\n"
     ]
    }
   ],
   "source": [
    "x = 12.23\n",
    "y = 23.34\n",
    "packing = [x, y] # packing!\n",
    "type(packing)\n",
    "print('Packing : ', packing)\n",
    "[c1, c2] = packing # unpacking!\n",
    "print('Unpacking : \\nc1 : ', c1)\n",
    "print('c2 : ', c2)"
   ]
  },
  {
   "cell_type": "code",
   "execution_count": 22,
   "id": "df04841b",
   "metadata": {},
   "outputs": [
    {
     "name": "stdout",
     "output_type": "stream",
     "text": [
      "['사과', '오렌지', '포도', '복숭아', '키위']\n"
     ]
    }
   ],
   "source": [
    "# 복수 개 리스트의 병합\n",
    "fruits1 = ['사과', '오렌지', '포도']\n",
    "fruits2 = ['복숭아', '키위']\n",
    "allfruits = fruits1 + fruits2\n",
    "print(allfruits)"
   ]
  },
  {
   "cell_type": "markdown",
   "id": "2c69b760",
   "metadata": {},
   "source": [
    "## 슬라이싱\n",
    "- 리스트의 슬라이싱\n",
    " - 문자열의 슬라이싱과 같음\n",
    " - 리스트에서는 정수, 실수, 문자열 등 다양한 데이터를 저장\n",
    " - 구조 :\n",
    "     [시작:끝+1:단계]"
   ]
  },
  {
   "cell_type": "code",
   "execution_count": 23,
   "id": "86360be6",
   "metadata": {},
   "outputs": [
    {
     "name": "stdout",
     "output_type": "stream",
     "text": [
      "[1020, 870]\n",
      "[1020, 3160]\n",
      "[870, 365]\n"
     ]
    }
   ],
   "source": [
    "price = [1020, 870, 3160, 365, 731]\n",
    "print(price[0:2]) # 인덱스 0에서 2 전까지 출력\n",
    "print(price[0:4:2]) # 인덱스 0에서 4 전까지 2의 간격으로 출력\n",
    "print(price[1::2]) # 인덱스 1에서 2의 간격으로 끝까지 출력"
   ]
  },
  {
   "cell_type": "markdown",
   "id": "539422b6",
   "metadata": {},
   "source": [
    "## 리스트에 원소 삽입"
   ]
  },
  {
   "cell_type": "markdown",
   "id": "f7d0a795",
   "metadata": {},
   "source": [
    "- append() 메소드\n",
    " - 1개의 인자를 입력으로 받아들임\n",
    " - 해당값을 리스트의 마지막에 추가로 붙여 넣을 수 있음"
   ]
  },
  {
   "cell_type": "code",
   "execution_count": 24,
   "id": "8ec9aee5",
   "metadata": {},
   "outputs": [
    {
     "name": "stdout",
     "output_type": "stream",
     "text": [
      "[2, 3, 5]\n"
     ]
    }
   ],
   "source": [
    "prime = [2, 3, 5]\n",
    "price.append(7)\n",
    "print(prime)"
   ]
  },
  {
   "cell_type": "code",
   "execution_count": 25,
   "id": "752f6c23",
   "metadata": {},
   "outputs": [
    {
     "name": "stdout",
     "output_type": "stream",
     "text": [
      "0\n",
      "1\n",
      "2\n",
      "3\n",
      "4\n"
     ]
    }
   ],
   "source": [
    "# 빈리스트에 정수를 1개씩 반복적으로 입력하는 예제\n",
    "a = list()\n",
    "for i in range(5) :\n",
    "    a.append(i)\n",
    "    print(a[i])"
   ]
  },
  {
   "cell_type": "markdown",
   "id": "8fc3abdb",
   "metadata": {},
   "source": [
    "## 리스트에 원소 삽입\n",
    "- insert() 메소드\n",
    " - 2개의 입력 인자 중 첫 번째는 인덱스 번호\n",
    " - 해당 인덱스 번호 직전의 위치에 두 번째 인자의 값을 입력"
   ]
  },
  {
   "cell_type": "code",
   "execution_count": 26,
   "id": "c1dbe113",
   "metadata": {},
   "outputs": [
    {
     "name": "stdout",
     "output_type": "stream",
     "text": [
      "['사과', '키위', '오렌지', '포도']\n"
     ]
    }
   ],
   "source": [
    "fruits = ['사과', '오렌지', '포도']\n",
    "fruits.insert(1, '키위')\n",
    "print(fruits)"
   ]
  },
  {
   "cell_type": "markdown",
   "id": "0ec1e1a8",
   "metadata": {},
   "source": [
    "## 리스트의 항목 삭제\n",
    "- del 명령문으로 삭제 "
   ]
  },
  {
   "cell_type": "code",
   "execution_count": 28,
   "id": "cc2f4314",
   "metadata": {},
   "outputs": [
    {
     "name": "stdout",
     "output_type": "stream",
     "text": [
      "[0, 2, 3, 4, 5]\n"
     ]
    }
   ],
   "source": [
    "# 지정한 위치에 해당하는 항목을 삭제\n",
    "nums = [0, 1, 2, 3, 4, 5]\n",
    "del nums[1]\n",
    "print(nums)"
   ]
  },
  {
   "cell_type": "markdown",
   "id": "d618d8f6",
   "metadata": {},
   "source": [
    "## 리스트에 원소 삽입\n",
    "- 리스트의 함축(comprehension)\n",
    " - 특정 리스트에 저장된 모든 원소들에 대해 조건에 맞는 원소들만을 선택적으로 추가\n",
    " - 리스트(1)의 원소들을 i(2)로 읽어 와서 조건식(3)에서 그 값을 테스트한 후 결과가 참이면 i(4)를 리스트에 입력\n",
    " \n",
    " [i(4) for i(2) in (리스트명)(1) if (조건식)(3)]"
   ]
  },
  {
   "cell_type": "code",
   "execution_count": 29,
   "id": "c0517dbd",
   "metadata": {},
   "outputs": [
    {
     "name": "stdout",
     "output_type": "stream",
     "text": [
      "[4, 8, 2]\n"
     ]
    }
   ],
   "source": [
    "mylist = [3, 5, 4, 9, 1, 8, 2, 1]\n",
    "newlist = [i for i in mylist if (i%2==0)]\n",
    "print(newlist)"
   ]
  },
  {
   "cell_type": "markdown",
   "id": "632c09da",
   "metadata": {},
   "source": [
    "## 리스트의 항목 삭제\n",
    "- pop() 함수로 삭제 "
   ]
  },
  {
   "cell_type": "code",
   "execution_count": 30,
   "id": "c7965540",
   "metadata": {},
   "outputs": [
    {
     "name": "stdout",
     "output_type": "stream",
     "text": [
      "[1, 3, 5]\n"
     ]
    }
   ],
   "source": [
    "# 리스트 객체에서 제공하는 삭제 기능\n",
    "nums = [1, 3, 5, 7, 9]\n",
    "nums.pop() # 9 삭제\n",
    "nums.pop() # 7 삭제\n",
    "print(nums)"
   ]
  },
  {
   "cell_type": "code",
   "execution_count": 31,
   "id": "108227c9",
   "metadata": {},
   "outputs": [
    {
     "name": "stdout",
     "output_type": "stream",
     "text": [
      "[1, 3, 7, 9]\n"
     ]
    }
   ],
   "source": [
    "# 입력값을 넣어주면 인덱스로 인식하여 해당 항목을 삭제\n",
    "nums = [1, 3, 5, 7, 9]\n",
    "nums.pop(2)\n",
    "print(nums)"
   ]
  },
  {
   "cell_type": "markdown",
   "id": "c66ee0a1",
   "metadata": {},
   "source": [
    "## 리스트의 항목 삭제\n",
    "- 빈 리스트([])로 삭제 "
   ]
  },
  {
   "cell_type": "code",
   "execution_count": 32,
   "id": "63810474",
   "metadata": {},
   "outputs": [
    {
     "name": "stdout",
     "output_type": "stream",
     "text": [
      "[0, 2, 3, 4, 5]\n"
     ]
    }
   ],
   "source": [
    "nums = [0, 1, 2, 3, 4, 5]\n",
    "nums[1:2] = []\n",
    "print(nums)"
   ]
  },
  {
   "cell_type": "code",
   "execution_count": null,
   "id": "8bf1ef38",
   "metadata": {},
   "outputs": [],
   "source": []
  }
 ],
 "metadata": {
  "kernelspec": {
   "display_name": "Python 3 (ipykernel)",
   "language": "python",
   "name": "python3"
  },
  "language_info": {
   "codemirror_mode": {
    "name": "ipython",
    "version": 3
   },
   "file_extension": ".py",
   "mimetype": "text/x-python",
   "name": "python",
   "nbconvert_exporter": "python",
   "pygments_lexer": "ipython3",
   "version": "3.9.12"
  }
 },
 "nbformat": 4,
 "nbformat_minor": 5
}
