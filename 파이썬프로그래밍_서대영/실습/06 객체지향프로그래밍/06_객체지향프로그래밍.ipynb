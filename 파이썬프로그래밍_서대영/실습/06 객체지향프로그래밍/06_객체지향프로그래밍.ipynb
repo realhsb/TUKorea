{
 "cells": [
  {
   "cell_type": "markdown",
   "id": "908e7548",
   "metadata": {},
   "source": [
    "# 6.1 파이썬의 객체\n",
    "## 파이썬의 객체\n",
    "- 객체지향\n",
    " - 모든 데이터들이 객체화\n",
    " - 객체는 클래스로 생성\n",
    " - 속성(attribute) : 특정한 값들을 저장\n",
    " - 메소드(method) : 다양한 기능을 수행\n",
    " - 클래스에 정의한 속성과 메소드는 그대로 객체에 존재 : 멤버변수, 멤버함수\n",
    "\n",
    "# 6.2 클래스로 객체 만들기\n",
    "## 클래스로 객체 만들기\n",
    "- 예제\n",
    " - main 부분에서 클래스 You를 이용하여 객체 my를 생성\n",
    " - 클래스 You에 정의된 속성과 메소드들을 my가 사용\n",
    "   - name 속성 : 이름을 저장하는 문자열형 \n",
    "   - setname() 메소드 : main에서 받아온 문자열 이름을 name에 저장\n",
    "   - show() 메소드 : 속성에 저장된 이름을 화면에 출력\n",
    " - 클래스에서는 멤버변수 앞에 'self.'를 붙이므로 별도로 멤버변수(속성)를 정의할 필요가 없음 "
   ]
  },
  {
   "cell_type": "code",
   "execution_count": 1,
   "id": "1a1c27d9",
   "metadata": {},
   "outputs": [
    {
     "name": "stdout",
     "output_type": "stream",
     "text": [
      "이름 :  수빈\n"
     ]
    }
   ],
   "source": [
    "# 클래스 선언\n",
    "class You :\n",
    "    name = '' # 멤버변수(속성) 정의\n",
    "    def setname(self, n) :\n",
    "        self.name = n\n",
    "    def show(self) :\n",
    "        print('이름 : ', self.name)\n",
    "\n",
    "# main 부분\n",
    "my = You()    # 클래스 You로 객체 my 생성\n",
    "my.setname('수빈')\n",
    "my.show()"
   ]
  },
  {
   "cell_type": "markdown",
   "id": "a74ba4f3",
   "metadata": {},
   "source": [
    "# 6.3 생성자\n",
    "## 생성자\n",
    "- 생성자\n",
    " - 기본적으로 멤버변수를 초기화하는 메소드\n",
    " - 객체를 생성하면 자동으로 실행됨\n",
    " - _init_"
   ]
  },
  {
   "cell_type": "code",
   "execution_count": 2,
   "id": "b50d9c99",
   "metadata": {},
   "outputs": [
    {
     "name": "stdout",
     "output_type": "stream",
     "text": [
      "이름 :  수빈  나이 :  21\n"
     ]
    }
   ],
   "source": [
    "class You :\n",
    "    def __init__(self, n, a) :\n",
    "        self.name = n\n",
    "        self.age = a\n",
    "    def show(self) :\n",
    "        print('이름 : ', self.name, ' 나이 : ', self.age)\n",
    "my = You('수빈', 21) # 객체가 생성될 때 __init__() 생성자 자동 실행\n",
    "my.show()"
   ]
  },
  {
   "cell_type": "markdown",
   "id": "c4c3952d",
   "metadata": {},
   "source": [
    "# 6.4 데이터형 객체의 개념\n",
    "## 데이터형 객체의 개념 "
   ]
  },
  {
   "cell_type": "code",
   "execution_count": 3,
   "id": "eb2452ee",
   "metadata": {},
   "outputs": [
    {
     "name": "stdout",
     "output_type": "stream",
     "text": [
      "x(함수) :  5\n",
      "x(메인) :  3\n"
     ]
    }
   ],
   "source": [
    "def func(x) :\n",
    "    x = 5\n",
    "    print('x(함수) : ', x)\n",
    "x = 3\n",
    "func(x)\n",
    "print('x(메인) : ', x)"
   ]
  },
  {
   "cell_type": "markdown",
   "id": "72bb3eb8",
   "metadata": {},
   "source": [
    "- 예 : swap 문제\n",
    " - id() 함수 : 괄호 안 객체의 주소를 얻음\n",
    " - main 부분\n",
    "  - 변수 a는 3이 저장된 객체를 가리킴\n",
    "  - 변수 b는 5가 저장된 객체를 가리킴\n",
    " - swap() 함수\n",
    "  - 첫 줄에서 main으로부터 받은 a와 b의 주소를 각각 변수 aa와 bb의 이름으로 저장\n",
    "  - 마지막에 이들을 바꾸어 반환 "
   ]
  },
  {
   "cell_type": "code",
   "execution_count": 2,
   "id": "33c5a5b5",
   "metadata": {},
   "outputs": [
    {
     "name": "stdout",
     "output_type": "stream",
     "text": [
      "a = 3 b = 5\n",
      "1 : id(a)  140340178852208  id(b) :  140340178852272\n",
      "2 : id(aa)  140340178852208  id(bb) :  140340178852272\n",
      "3 : id(a)  140340178852272  id(b) :  140340178852208\n",
      "a = 5 b = 3\n"
     ]
    }
   ],
   "source": [
    "def swap(aa, bb) :\n",
    "    print('2 : id(aa) ', id(aa), ' id(bb) : ', id(bb))\n",
    "    return bb, aa\n",
    "a = 3\n",
    "b = 5\n",
    "print('a =', a, 'b =', b)\n",
    "print('1 : id(a) ', id(a), ' id(b) : ', id(b))\n",
    "a, b = swap(a, b)\n",
    "print('3 : id(a) ', id(a), ' id(b) : ', id(b))\n",
    "print('a =', a, 'b =', b)"
   ]
  },
  {
   "cell_type": "markdown",
   "id": "8fcb1323",
   "metadata": {},
   "source": [
    "# 6.5 다양하고 편리한 기능들\n",
    "## 다양하고 편리한 기능들\n",
    "- for문을 반복\n",
    " - 리스트에 저장된 원소들을 순서대로 "
   ]
  }
 ],
 "metadata": {
  "kernelspec": {
   "display_name": "Python 3 (ipykernel)",
   "language": "python",
   "name": "python3"
  },
  "language_info": {
   "codemirror_mode": {
    "name": "ipython",
    "version": 3
   },
   "file_extension": ".py",
   "mimetype": "text/x-python",
   "name": "python",
   "nbconvert_exporter": "python",
   "pygments_lexer": "ipython3",
   "version": "3.9.12"
  }
 },
 "nbformat": 4,
 "nbformat_minor": 5
}
