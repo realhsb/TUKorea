{
 "cells": [
  {
   "cell_type": "code",
   "execution_count": 1,
   "id": "4e0a6d38",
   "metadata": {},
   "outputs": [
    {
     "name": "stdout",
     "output_type": "stream",
     "text": [
      "이름 :  준서  나이 :  21\n"
     ]
    }
   ],
   "source": [
    "# 6.1\n",
    "class You :\n",
    "    def setname(self, n) :\n",
    "        self.name = n\n",
    "    def setage(self, a) :\n",
    "        self.age = a\n",
    "    def show(self) :\n",
    "        print('이름 : ', self.name, ' 나이 : ', self.age)\n",
    "my = You()\n",
    "my.setname('준서')\n",
    "my.setage(21)\n",
    "my.show()"
   ]
  },
  {
   "cell_type": "code",
   "execution_count": 5,
   "id": "6cc03c61",
   "metadata": {},
   "outputs": [
    {
     "name": "stdout",
     "output_type": "stream",
     "text": [
      "3 + 7 = 10\n",
      "3 * 10 = 30\n"
     ]
    }
   ],
   "source": [
    "# 6.2\n",
    "class Calc :\n",
    "    def __init__(self, n) :\n",
    "        self.a = n\n",
    "    def plus(self, value) :\n",
    "        print(self.a, '+', value, '=', self.a + value)\n",
    "    def mult(self, value) :\n",
    "        print(self.a, '*', value, '=', self.a * value)\n",
    "my = Calc(3)\n",
    "my.plus(7)\n",
    "my.mult(10)"
   ]
  },
  {
   "cell_type": "code",
   "execution_count": 1,
   "id": "50f3e7a7",
   "metadata": {},
   "outputs": [
    {
     "name": "stdout",
     "output_type": "stream",
     "text": [
      "Num1 : 3\n",
      "Num2 : 5\n",
      "3 + 5 = 8\n",
      "3 * 5 = 15\n"
     ]
    }
   ],
   "source": [
    "# 6.3\n",
    "class Calc :\n",
    "    def __init__(self, n1, n2) :\n",
    "        self.a = n1\n",
    "        self.b = n2\n",
    "    def calculate(self, op) :\n",
    "        if(op=='+') :\n",
    "            print(self.a, '+', self.b, '=', self.a + self.b)\n",
    "        elif(op=='*') :\n",
    "            print(self.a, '*', self.b, '=', self.a * self.b)\n",
    "\n",
    "num1 = int(input(\"Num1 : \"))\n",
    "num2 = int(input(\"Num2 : \"))\n",
    "\n",
    "obj = Calc(num1, num2)\n",
    "\n",
    "obj.calculate('+')\n",
    "obj.calculate('*')"
   ]
  },
  {
   "cell_type": "code",
   "execution_count": 3,
   "id": "c00d9dd5",
   "metadata": {},
   "outputs": [
    {
     "name": "stdout",
     "output_type": "stream",
     "text": [
      "1 1 2 3 5 "
     ]
    }
   ],
   "source": [
    "# 6.4 \n",
    "# (1)\n",
    "\n",
    "def fib(n) :\n",
    "    a, b = 0, 1\n",
    "    while b < n:\n",
    "        print(b, end=' ')\n",
    "        a, b = b, a+b\n",
    "fib(8)"
   ]
  },
  {
   "cell_type": "code",
   "execution_count": 5,
   "id": "f29222da",
   "metadata": {},
   "outputs": [
    {
     "name": "stdout",
     "output_type": "stream",
     "text": [
      "[1, 1, 2, 3, 5]\n"
     ]
    }
   ],
   "source": [
    "# (2)\n",
    "def fib2(n) :\n",
    "    result = []\n",
    "    a, b = 0, 1\n",
    "    while b < n :\n",
    "        result.append(b)\n",
    "        a, b = b, a+b\n",
    "    return result\n",
    "a = fib2(8)\n",
    "print(a)"
   ]
  },
  {
   "cell_type": "code",
   "execution_count": 8,
   "id": "b0e2e561",
   "metadata": {},
   "outputs": [
    {
     "name": "stdout",
     "output_type": "stream",
     "text": [
      "도윤  :  21 세\n",
      "하준  :  20 세\n",
      "시우  :  22 세\n"
     ]
    }
   ],
   "source": [
    "# 6.5\n",
    "a = [['도윤', 21], ['하준', 20], ['시우', 22]]\n",
    "for x, y in a :\n",
    "    print(x, ' : ', y, '세')"
   ]
  },
  {
   "cell_type": "code",
   "execution_count": 11,
   "id": "ccd0edf5",
   "metadata": {},
   "outputs": [
    {
     "data": {
      "text/plain": [
       "{'AI': 2, '나는': 2, '인공지능': 1, '로봇입니다': 1, '로봇': 1, '입니다': 1}"
      ]
     },
     "execution_count": 11,
     "metadata": {},
     "output_type": "execute_result"
    }
   ],
   "source": [
    "# 6.6\n",
    "text = \"AI! 나는 인공지능 로봇입니다. 나는 'AI 로봇' 입니다.\"\n",
    "def max_counts(text) :\n",
    "    skips = ['.', ',', ';', ':', '\\'', '!']\n",
    "    \n",
    "    for ch in skips :\n",
    "        text = text.replace(ch, '')\n",
    "    counts = {}\n",
    "    for i in text.split(' ') :\n",
    "        if i in counts :\n",
    "            counts[i] += 1\n",
    "        else :\n",
    "            counts[i] = 1\n",
    "    return counts\n",
    "max_counts(text)"
   ]
  },
  {
   "cell_type": "code",
   "execution_count": 17,
   "id": "0ce08112",
   "metadata": {},
   "outputs": [],
   "source": [
    "people = ['홍', '이', '김', '이', '이', '김']\n",
    "def max_count(people) :\n",
    "    counts = {}\n",
    "    for i in people :\n",
    "        if i in counts :\n",
    "            counts[i] += 1\n",
    "        else :\n",
    "            counts[i] = 1\n",
    "    return counts\n",
    "counts = max_count(people)"
   ]
  },
  {
   "cell_type": "code",
   "execution_count": 16,
   "id": "6762b7da",
   "metadata": {},
   "outputs": [
    {
     "name": "stdout",
     "output_type": "stream",
     "text": [
      "3\n"
     ]
    }
   ],
   "source": [
    "# 6.7\n",
    "print(counts.get(max(counts, key=counts.get))) # 질문"
   ]
  },
  {
   "cell_type": "code",
   "execution_count": 14,
   "id": "66d3bfb1",
   "metadata": {},
   "outputs": [
    {
     "name": "stdout",
     "output_type": "stream",
     "text": [
      "dict_items([('홍', 1), ('이', 3), ('김', 2)])\n"
     ]
    }
   ],
   "source": [
    "# 6.8\n",
    "print(counts.items())"
   ]
  },
  {
   "cell_type": "code",
   "execution_count": 15,
   "id": "99d4aaec",
   "metadata": {},
   "outputs": [
    {
     "name": "stdout",
     "output_type": "stream",
     "text": [
      "홍 1\n",
      "이 3\n",
      "김 2\n"
     ]
    }
   ],
   "source": [
    "# 6.9\n",
    "for name, count in counts.items() :\n",
    "    print(name, count)"
   ]
  },
  {
   "cell_type": "code",
   "execution_count": 20,
   "id": "1073104e",
   "metadata": {},
   "outputs": [],
   "source": [
    "people = ['홍', '홍', '김', '이', '홍', '김']\n",
    "def max_count(people) :\n",
    "    counts = {}\n",
    "    for i in people :\n",
    "        if i in counts :\n",
    "            counts[i] += 1\n",
    "        else :\n",
    "            counts[i] = 1\n",
    "    return counts\n",
    "counts = max_count(people)"
   ]
  },
  {
   "cell_type": "code",
   "execution_count": 21,
   "id": "9d414fed",
   "metadata": {},
   "outputs": [
    {
     "name": "stdout",
     "output_type": "stream",
     "text": [
      "홍  :  3 번\n",
      "김  :  2 번\n",
      "이  :  1 번\n",
      "1등 :  ['홍']\n"
     ]
    }
   ],
   "source": [
    "# 6.10\n",
    "first = []\n",
    "max_num = max(counts.values())\n",
    "for name, count in counts.items() :\n",
    "    print(name, ' : ', count, '번')\n",
    "    if count == counts.get(max(counts, key=counts.get)) :\n",
    "        first.append(name)\n",
    "print('1등 : ', first)"
   ]
  }
 ],
 "metadata": {
  "kernelspec": {
   "display_name": "Python 3 (ipykernel)",
   "language": "python",
   "name": "python3"
  },
  "language_info": {
   "codemirror_mode": {
    "name": "ipython",
    "version": 3
   },
   "file_extension": ".py",
   "mimetype": "text/x-python",
   "name": "python",
   "nbconvert_exporter": "python",
   "pygments_lexer": "ipython3",
   "version": "3.9.12"
  }
 },
 "nbformat": 4,
 "nbformat_minor": 5
}
