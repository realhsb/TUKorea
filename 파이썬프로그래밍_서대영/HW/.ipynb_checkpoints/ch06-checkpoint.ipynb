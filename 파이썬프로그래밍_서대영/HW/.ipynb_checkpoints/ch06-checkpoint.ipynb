{
 "cells": [
  {
   "cell_type": "markdown",
   "id": "f6eef72b",
   "metadata": {},
   "source": [
    "# 파이썬프로그래밍 HW3 \n",
    "## 2021158041 한수빈"
   ]
  },
  {
   "cell_type": "markdown",
   "id": "86ff39d6",
   "metadata": {},
   "source": [
    "# 6.1"
   ]
  },
  {
   "cell_type": "code",
   "execution_count": 1,
   "id": "4e0a6d38",
   "metadata": {},
   "outputs": [
    {
     "name": "stdout",
     "output_type": "stream",
     "text": [
      "이름 :  준서  나이 :  21\n"
     ]
    }
   ],
   "source": [
    "class You :\n",
    "    def setname(self, n) :\n",
    "        self.name = n\n",
    "    def setage(self, a) :\n",
    "        self.age = a\n",
    "    def show(self) :\n",
    "        print('이름 : ', self.name, ' 나이 : ', self.age)\n",
    "my = You()\n",
    "my.setname('준서')\n",
    "my.setage(21)\n",
    "my.show()"
   ]
  },
  {
   "cell_type": "markdown",
   "id": "ea8affe5",
   "metadata": {},
   "source": [
    "# 6.2"
   ]
  },
  {
   "cell_type": "code",
   "execution_count": 2,
   "id": "6cc03c61",
   "metadata": {},
   "outputs": [
    {
     "name": "stdout",
     "output_type": "stream",
     "text": [
      "3 + 7 = 10\n",
      "3 * 10 = 30\n"
     ]
    }
   ],
   "source": [
    "class Calc :\n",
    "    def __init__(self, n) :\n",
    "        self.a = n\n",
    "    def plus(self, value) :\n",
    "        print(self.a, '+', value, '=', self.a + value)\n",
    "    def mult(self, value) :\n",
    "        print(self.a, '*', value, '=', self.a * value)\n",
    "my = Calc(3)\n",
    "my.plus(7)\n",
    "my.mult(10)"
   ]
  },
  {
   "cell_type": "markdown",
   "id": "f5fe4adc",
   "metadata": {},
   "source": [
    "# 6.3"
   ]
  },
  {
   "cell_type": "code",
   "execution_count": null,
   "id": "50f3e7a7",
   "metadata": {},
   "outputs": [],
   "source": [
    "class Calc :\n",
    "    def __init__(self, n1, n2) :\n",
    "        self.a = n1\n",
    "        self.b = n2\n",
    "    def calculate(self, op) :\n",
    "        if(op=='+') :\n",
    "            print(self.a, '+', self.b, '=', self.a + self.b)\n",
    "        elif(op=='*') :\n",
    "            print(self.a, '*', self.b, '=', self.a * self.b)\n",
    "\n",
    "num1 = int(input(\"Num1 : \"))\n",
    "num2 = int(input(\"Num2 : \"))\n",
    "\n",
    "obj = Calc(num1, num2)\n",
    "\n",
    "obj.calculate('+')\n",
    "obj.calculate('*')"
   ]
  },
  {
   "cell_type": "markdown",
   "id": "06e92d4a",
   "metadata": {},
   "source": [
    "# 6.4 (1)"
   ]
  },
  {
   "cell_type": "code",
   "execution_count": null,
   "id": "c00d9dd5",
   "metadata": {},
   "outputs": [],
   "source": [
    "def fib(n) :\n",
    "    a, b = 0, 1\n",
    "    while b < n:\n",
    "        print(b, end=' ')\n",
    "        a, b = b, a+b\n",
    "fib(8)"
   ]
  },
  {
   "cell_type": "markdown",
   "id": "77bb4bf2",
   "metadata": {},
   "source": [
    "# 6.4 (2)"
   ]
  },
  {
   "cell_type": "code",
   "execution_count": null,
   "id": "f29222da",
   "metadata": {},
   "outputs": [],
   "source": [
    "def fib2(n) :\n",
    "    result = []\n",
    "    a, b = 0, 1\n",
    "    while b < n :\n",
    "        result.append(b)\n",
    "        a, b = b, a+b\n",
    "    return result\n",
    "a = fib2(8)\n",
    "print(a)"
   ]
  },
  {
   "cell_type": "markdown",
   "id": "68002bab",
   "metadata": {},
   "source": [
    "# 6.5"
   ]
  },
  {
   "cell_type": "code",
   "execution_count": null,
   "id": "b0e2e561",
   "metadata": {},
   "outputs": [],
   "source": [
    "a = [['도윤', 21], ['하준', 20], ['시우', 22]]\n",
    "for x, y in a :\n",
    "    print(x, ' : ', y, '세')"
   ]
  },
  {
   "cell_type": "markdown",
   "id": "72d26b90",
   "metadata": {},
   "source": [
    "# 6.6"
   ]
  },
  {
   "cell_type": "code",
   "execution_count": null,
   "id": "ccd0edf5",
   "metadata": {},
   "outputs": [],
   "source": [
    "# 6.6\n",
    "text = \"AI! 나는 인공지능 로봇입니다. 나는 'AI 로봇' 입니다.\"\n",
    "def max_counts(text) :\n",
    "    skips = ['.', ',', ';', ':', '\\'', '!']\n",
    "    \n",
    "    for ch in skips :\n",
    "        text = text.replace(ch, '')\n",
    "    counts = {}\n",
    "    for i in text.split(' ') :\n",
    "        if i in counts :\n",
    "            counts[i] += 1\n",
    "        else :\n",
    "            counts[i] = 1\n",
    "    return counts\n",
    "max_counts(text)"
   ]
  },
  {
   "cell_type": "code",
   "execution_count": null,
   "id": "0ce08112",
   "metadata": {},
   "outputs": [],
   "source": [
    "people = ['홍', '이', '김', '이', '이', '김']\n",
    "def max_count(people) :\n",
    "    counts = {}\n",
    "    for i in people :\n",
    "        if i in counts :\n",
    "            counts[i] += 1\n",
    "        else :\n",
    "            counts[i] = 1\n",
    "    return counts\n",
    "counts = max_count(people)"
   ]
  },
  {
   "cell_type": "markdown",
   "id": "c2f46523",
   "metadata": {},
   "source": [
    "# 6.7"
   ]
  },
  {
   "cell_type": "code",
   "execution_count": null,
   "id": "6762b7da",
   "metadata": {},
   "outputs": [],
   "source": [
    "print(counts.get(max(counts, key=counts.get))) # 질문"
   ]
  },
  {
   "cell_type": "markdown",
   "id": "b21e0068",
   "metadata": {},
   "source": [
    "# 6.8"
   ]
  },
  {
   "cell_type": "code",
   "execution_count": null,
   "id": "66d3bfb1",
   "metadata": {},
   "outputs": [],
   "source": [
    "print(counts.items())"
   ]
  },
  {
   "cell_type": "markdown",
   "id": "ca709143",
   "metadata": {},
   "source": [
    "# 6.9"
   ]
  },
  {
   "cell_type": "code",
   "execution_count": null,
   "id": "99d4aaec",
   "metadata": {},
   "outputs": [],
   "source": [
    "for name, count in counts.items() :\n",
    "    print(name, count)"
   ]
  },
  {
   "cell_type": "code",
   "execution_count": null,
   "id": "1073104e",
   "metadata": {},
   "outputs": [],
   "source": [
    "people = ['홍', '홍', '김', '이', '홍', '김']\n",
    "def max_count(people) :\n",
    "    counts = {}\n",
    "    for i in people :\n",
    "        if i in counts :\n",
    "            counts[i] += 1\n",
    "        else :\n",
    "            counts[i] = 1\n",
    "    return counts\n",
    "counts = max_count(people)"
   ]
  },
  {
   "cell_type": "markdown",
   "id": "e7b2884a",
   "metadata": {},
   "source": [
    "# 6.10"
   ]
  },
  {
   "cell_type": "code",
   "execution_count": null,
   "id": "9d414fed",
   "metadata": {},
   "outputs": [],
   "source": [
    "first = []\n",
    "max_num = max(counts.values())\n",
    "for name, count in counts.items() :\n",
    "    print(name, ' : ', count, '번')\n",
    "    if count == counts.get(max(counts, key=counts.get)) :\n",
    "        first.append(name)\n",
    "print('1등 : ', first)"
   ]
  }
 ],
 "metadata": {
  "kernelspec": {
   "display_name": "Python 3 (ipykernel)",
   "language": "python",
   "name": "python3"
  },
  "language_info": {
   "codemirror_mode": {
    "name": "ipython",
    "version": 3
   },
   "file_extension": ".py",
   "mimetype": "text/x-python",
   "name": "python",
   "nbconvert_exporter": "python",
   "pygments_lexer": "ipython3",
   "version": "3.9.12"
  }
 },
 "nbformat": 4,
 "nbformat_minor": 5
}
