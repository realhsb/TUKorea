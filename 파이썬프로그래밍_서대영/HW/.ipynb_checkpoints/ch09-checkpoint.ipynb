{
 "cells": [
  {
   "cell_type": "markdown",
   "id": "43f8a182",
   "metadata": {},
   "source": [
    "# 파이썬프로그래밍 HW09\n",
    "## 2021158041 한수빈"
   ]
  },
  {
   "cell_type": "markdown",
   "id": "3e819fab",
   "metadata": {},
   "source": [
    "## Quiz 9.1"
   ]
  },
  {
   "cell_type": "code",
   "execution_count": 2,
   "id": "f3f840a3",
   "metadata": {},
   "outputs": [],
   "source": [
    "import numpy as np"
   ]
  },
  {
   "cell_type": "code",
   "execution_count": 3,
   "id": "c1eed345",
   "metadata": {},
   "outputs": [
    {
     "name": "stdout",
     "output_type": "stream",
     "text": [
      "(2, 3)\n"
     ]
    }
   ],
   "source": [
    "a = np.array([[1,2,3], [2,3,4]])\n",
    "print(a.shape)"
   ]
  },
  {
   "cell_type": "markdown",
   "id": "6b6025bc",
   "metadata": {},
   "source": [
    "## Quiz 9.2"
   ]
  },
  {
   "cell_type": "code",
   "execution_count": 9,
   "id": "49ec041b",
   "metadata": {},
   "outputs": [
    {
     "name": "stdout",
     "output_type": "stream",
     "text": [
      "12\n"
     ]
    }
   ],
   "source": [
    "list1 = [[1,11], [2,12], [3,13]]\n",
    "print(list1[1][1])"
   ]
  },
  {
   "cell_type": "markdown",
   "id": "b10f7914",
   "metadata": {},
   "source": [
    "## Quiz 9.3"
   ]
  },
  {
   "cell_type": "code",
   "execution_count": null,
   "id": "c255a346",
   "metadata": {},
   "outputs": [],
   "source": []
  },
  {
   "cell_type": "code",
   "execution_count": 7,
   "id": "2d9cf9ff",
   "metadata": {},
   "outputs": [
    {
     "name": "stdout",
     "output_type": "stream",
     "text": [
      "[[1. 1. 1. 1.]\n",
      " [1. 1. 1. 1.]\n",
      " [1. 1. 1. 1.]]\n"
     ]
    }
   ],
   "source": []
  },
  {
   "cell_type": "markdown",
   "id": "01b8cf7b",
   "metadata": {},
   "source": [
    "## Quiz 9.4"
   ]
  },
  {
   "cell_type": "code",
   "execution_count": null,
   "id": "016251ec",
   "metadata": {},
   "outputs": [],
   "source": []
  },
  {
   "cell_type": "markdown",
   "id": "9d89590c",
   "metadata": {},
   "source": [
    "## Quiz 9.5"
   ]
  },
  {
   "cell_type": "markdown",
   "id": "7845785f",
   "metadata": {},
   "source": [
    "## Quiz 9.6"
   ]
  },
  {
   "cell_type": "markdown",
   "id": "1d67da0d",
   "metadata": {},
   "source": [
    "## Quiz 9.7"
   ]
  },
  {
   "cell_type": "markdown",
   "id": "95e8f69e",
   "metadata": {},
   "source": [
    "## Quiz 9.8"
   ]
  },
  {
   "cell_type": "markdown",
   "id": "9e9365e2",
   "metadata": {},
   "source": [
    "## Quiz 9.9"
   ]
  },
  {
   "cell_type": "markdown",
   "id": "538fd531",
   "metadata": {},
   "source": [
    "## Quiz 9.10"
   ]
  },
  {
   "cell_type": "code",
   "execution_count": null,
   "id": "5bc5fe98",
   "metadata": {},
   "outputs": [],
   "source": []
  }
 ],
 "metadata": {
  "kernelspec": {
   "display_name": "Python 3 (ipykernel)",
   "language": "python",
   "name": "python3"
  },
  "language_info": {
   "codemirror_mode": {
    "name": "ipython",
    "version": 3
   },
   "file_extension": ".py",
   "mimetype": "text/x-python",
   "name": "python",
   "nbconvert_exporter": "python",
   "pygments_lexer": "ipython3",
   "version": "3.9.12"
  }
 },
 "nbformat": 4,
 "nbformat_minor": 5
}
